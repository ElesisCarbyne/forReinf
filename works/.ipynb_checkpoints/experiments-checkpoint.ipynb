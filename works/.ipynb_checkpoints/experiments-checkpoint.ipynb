{
 "cells": [
  {
   "cell_type": "code",
   "execution_count": 1,
   "id": "d326930b-1f76-496e-ba56-3ba820082175",
   "metadata": {},
   "outputs": [
    {
     "data": {
      "text/plain": [
       "(tensor([0.1325]), [0, 1, 2, 3, 4, 5, 6, 7, 8, 9])"
      ]
     },
     "execution_count": 1,
     "metadata": {},
     "output_type": "execute_result"
    }
   ],
   "source": [
    "import torch\n",
    "\n",
    "torch.rand(1), list(range(10))"
   ]
  },
  {
   "cell_type": "code",
   "execution_count": 6,
   "id": "05b78b0c-1ffc-44f0-bf15-6e6a3f27b0bb",
   "metadata": {},
   "outputs": [
    {
     "name": "stdout",
     "output_type": "stream",
     "text": [
      "tensor([[0.0857, 0.8364, 0.4044, 0.1227, 0.2062, 0.6550],\n",
      "        [0.6133, 0.4087, 0.0482, 0.1303, 0.7554, 0.2742]])\n"
     ]
    },
    {
     "data": {
      "text/plain": [
       "tensor([1, 4])"
      ]
     },
     "execution_count": 6,
     "metadata": {},
     "output_type": "execute_result"
    }
   ],
   "source": [
    "a = torch.rand((2,6))\n",
    "print(a)\n",
    "torch.argmax(a, dim=1)"
   ]
  },
  {
   "cell_type": "code",
   "execution_count": 5,
   "id": "41de504e-b4fb-4a86-b257-049b369708c0",
   "metadata": {},
   "outputs": [
    {
     "data": {
      "text/plain": [
       "torch.Size([1])"
      ]
     },
     "execution_count": 5,
     "metadata": {},
     "output_type": "execute_result"
    }
   ],
   "source": [
    "torch.randint(0, 4, (1,)).size()"
   ]
  },
  {
   "cell_type": "code",
   "execution_count": 8,
   "id": "bb5a90e9-d5a9-44e3-a67e-caaeccdd5a48",
   "metadata": {},
   "outputs": [
    {
     "name": "stdout",
     "output_type": "stream",
     "text": [
      "tensor([1., 2., 3., 4., 5., 6.], device='cuda:0') torch.float32 torch.Size([6])\n",
      "running time : 0.014 min\n",
      "tensor([1., 2., 3., 4., 5., 6.], device='cuda:0') torch.float32 torch.Size([6])\n",
      "running time : 0.0000524 min\n"
     ]
    }
   ],
   "source": [
    "import numpy as np\n",
    "import time\n",
    "\n",
    "a = np.array([1,2,3,4,5,6])\n",
    "\n",
    "start = time.time()\n",
    "b = torch.tensor(a, dtype=torch.float, device=\"cuda\")\n",
    "print(b, b.dtype, b.size())\n",
    "end = time.time()\n",
    "print(f\"running time : {(end - start) / 60:.3f} min\")\n",
    "\n",
    "start = time.time()\n",
    "c = torch.from_numpy(a).float().to(\"cuda\")\n",
    "print(c, c.dtype, c.size())\n",
    "end = time.time()\n",
    "print(f\"running time : {(end - start) / 60:.7f} min\")"
   ]
  },
  {
   "cell_type": "code",
   "execution_count": null,
   "id": "f37d76cd-ecf3-4bad-b300-36bf6ee18de3",
   "metadata": {},
   "outputs": [],
   "source": [
    "a = torch.randint(0, 10, (6, 4))\n",
    "b = torch.tensor()\n",
    "\n",
    "X = Q1.gather(dim=1, index=action_batch.long().unsqueeze(dim=1)).squeeze()"
   ]
  }
 ],
 "metadata": {
  "kernelspec": {
   "display_name": "Python 3 (ipykernel)",
   "language": "python",
   "name": "python3"
  },
  "language_info": {
   "codemirror_mode": {
    "name": "ipython",
    "version": 3
   },
   "file_extension": ".py",
   "mimetype": "text/x-python",
   "name": "python",
   "nbconvert_exporter": "python",
   "pygments_lexer": "ipython3",
   "version": "3.10.12"
  }
 },
 "nbformat": 4,
 "nbformat_minor": 5
}
