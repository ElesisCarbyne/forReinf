{
 "cells": [
  {
   "cell_type": "markdown",
   "id": "2bf07db1-3495-44db-bbc3-5d55ee11c1e8",
   "metadata": {},
   "source": [
    "# 2024/08/01"
   ]
  },
  {
   "cell_type": "code",
   "execution_count": 3,
   "id": "fa7a8375-8c95-410d-9eab-26fa74c2fa35",
   "metadata": {},
   "outputs": [],
   "source": [
    "from lib.Gridworld import Gridworld\n",
    "\n",
    "''' \n",
    "    game mode\n",
    "    static = gridworld 위의 모든 객체(플레이어, 장애물, 함정, 도착점)의 위치가 고정,\n",
    "    player = static 모드와 같으나 플레이어의 위치가 무작위로 설정됨,\n",
    "    random = gridworld 위의 모든 객체(플레이어, 장애물, 함정, 도착점)의 위치가 무작위로 설정\n",
    "'''\n",
    "game = Gridworld(size=4, mode=\"static\")"
   ]
  },
  {
   "cell_type": "code",
   "execution_count": 4,
   "id": "4ddb5888-c7c2-440d-b7f1-188901d8c144",
   "metadata": {},
   "outputs": [
    {
     "data": {
      "text/plain": [
       "array([['+', '-', ' ', ' '],\n",
       "       [' ', 'W', ' ', ' '],\n",
       "       [' ', ' ', 'P', ' '],\n",
       "       [' ', ' ', ' ', ' ']], dtype='<U2')"
      ]
     },
     "execution_count": 4,
     "metadata": {},
     "output_type": "execute_result"
    }
   ],
   "source": [
    "'''\n",
    "    u : up,\n",
    "    d : down,\n",
    "    r : right,\n",
    "    l : left\n",
    "'''\n",
    "game.makeMove(\"d\")\n",
    "game.makeMove(\"d\")\n",
    "game.makeMove(\"l\")\n",
    "game.display()"
   ]
  },
  {
   "cell_type": "code",
   "execution_count": 7,
   "id": "27062cb2-4874-4d89-a60a-9bee67e9b812",
   "metadata": {},
   "outputs": [
    {
     "name": "stdout",
     "output_type": "stream",
     "text": [
      "-1\n"
     ]
    },
    {
     "data": {
      "text/plain": [
       "array([[[0, 0, 0, 0],\n",
       "        [0, 0, 0, 0],\n",
       "        [0, 0, 1, 0],\n",
       "        [0, 0, 0, 0]],\n",
       "\n",
       "       [[1, 0, 0, 0],\n",
       "        [0, 0, 0, 0],\n",
       "        [0, 0, 0, 0],\n",
       "        [0, 0, 0, 0]],\n",
       "\n",
       "       [[0, 1, 0, 0],\n",
       "        [0, 0, 0, 0],\n",
       "        [0, 0, 0, 0],\n",
       "        [0, 0, 0, 0]],\n",
       "\n",
       "       [[0, 0, 0, 0],\n",
       "        [0, 1, 0, 0],\n",
       "        [0, 0, 0, 0],\n",
       "        [0, 0, 0, 0]]], dtype=uint8)"
      ]
     },
     "execution_count": 7,
     "metadata": {},
     "output_type": "execute_result"
    }
   ],
   "source": [
    "print(game.reward())\n",
    "game.board.render_np() # 4 x 4 x 4 형태의 행렬로, 인덱스 0부터 \"플레이어의 위치\", \"도착점의 위치\", \"함정의 위치\", \"장애물의 위치\"이다"
   ]
  },
  {
   "cell_type": "code",
   "execution_count": 1,
   "id": "e852f0a6-f122-44fc-b516-15f75682ad7d",
   "metadata": {},
   "outputs": [
    {
     "name": "stderr",
     "output_type": "stream",
     "text": [
      "IOPub message rate exceeded.\n",
      "The Jupyter server will temporarily stop sending output\n",
      "to the client in order to avoid crashing it.\n",
      "To change this limit, set the config variable\n",
      "`--ServerApp.iopub_msg_rate_limit`.\n",
      "\n",
      "Current values:\n",
      "ServerApp.iopub_msg_rate_limit=1000.0 (msgs/sec)\n",
      "ServerApp.rate_limit_window=3.0 (secs)\n",
      "\n"
     ]
    }
   ],
   "source": [
    "import numpy as np\n",
    "import torch\n",
    "from torch import nn\n",
    "from lib.Gridworld import Gridworld\n",
    "from IPython.display import clear_output\n",
    "import random\n",
    "import matplotlib.pyplot as plt\n",
    "import time\n",
    "\n",
    "# l = layer\n",
    "l1 = 64 # 64차원의 벡터를 입력으로 받는다\n",
    "l2 = 150 # 첫번째 은닉층의 노드 수\n",
    "l3 = 100 # 두번째 은닉층의 노드 수\n",
    "l4 = 4 # 출력층의 노드 수(4차원의 실수 벡터를 반환한다)\n",
    "\n",
    "device = \"cuda\" if torch.cuda.is_available() else \"cpu\"\n",
    "print(\"device type :\", device)\n",
    "print(\"current device :\", torch.cuda.current_device())\n",
    "print(\"number of device :\", torch.cuda.device_count())\n",
    "\n",
    "''' 모델 구현 '''\n",
    "model = nn.Sequential(\n",
    "    nn.Linear(l1, l2),\n",
    "    nn.ReLU(),\n",
    "    nn.Linear(l2, l3),\n",
    "    nn.ReLU(),\n",
    "    nn.Linear(l3, l4)\n",
    ").to(device)\n",
    "loss_fn = nn.MSELoss()\n",
    "lr = 1e-3 # 0.001\n",
    "optimizer = torch.optim.Adam(model.parameters(), lr=lr)\n",
    "\n",
    "gamma = 0.9\n",
    "epsilon = 1.0\n",
    "\n",
    "action_set = {\n",
    "    0: \"u\",\n",
    "    1: \"d\",\n",
    "    2: \"l\",\n",
    "    3: \"r\"\n",
    "}\n",
    "\n",
    "epochs = 1000\n",
    "losses = []\n",
    "start = time.time()\n",
    "for i in range(epochs):\n",
    "    game = Gridworld(size=4, mode=\"static\") # 4 X 4 크기의 보드 게임을 사용한다\n",
    "\n",
    "    ''' 초기 상태 처리 '''\n",
    "    # 4 X 4 X 4 형태의 벡터를 1 X 64 형태의 벡터로 평활화한다\n",
    "    state_ = game.board.render_np().reshape(1, 64) \\\n",
    "            + np.random.rand(1, 64) / 10.0 # ReLU() 함수의 0이하의 값은 모두 0으로 사상하는 특성으로 인한 \"dead neuron\" 현상을 막기위해 잡음을 추가한다\n",
    "    state = torch.tensor(state_, dtype=torch.float, device=device)\n",
    "\n",
    "    ''' 게임 진행 '''\n",
    "    status = 1 # 게임 종료 여부; 1 = 진행중 / 0 = 종료\n",
    "    while(status == 1):\n",
    "        qval = model(state) # Q 값으로 구성된 벡터 출력\n",
    "        # qval_ = qval.data.numpy()\n",
    "\n",
    "        ''' 행동(동작) 선택 및 실행 '''\n",
    "        if(random.random() < epsilon): # 탐험(exploration)\n",
    "            action_ = np.random.randint(0, 4) # 무작위로 행동을 선택한다\n",
    "        else: # 활용(exploitation)\n",
    "            action_ = torch.argmax(qval, dim=1).item() # 가장 큰 Q 값을 가진 행동을 선택한다\n",
    "        action = action_set[action_]\n",
    "        game.makeMove(action)\n",
    "\n",
    "        ''' 다음 상태(S_t+1)와 보상(R_t+1) '''\n",
    "        state2_ = game.board.render_np().reshape(1, 64) + np.random.rand(1, 64) / 10.0\n",
    "        state2 = torch.tensor(state2_, dtype=torch.float, device=device)\n",
    "        reward = torch.tensor(game.reward(), dtype=torch.float, device=device) # reward는 int형(텐서가 아니다) 객체이다\n",
    "        \n",
    "        ''' max Q 계산 및 Q-러닝의 label(목표값, 실제값) 항 계산 '''\n",
    "        # 다음 상태(S_t+1)가 아닌 현재 상태(S_t)에 대해 모델을 학습시키는 것이므로,\n",
    "        # 계산 그래프에서 다음 상태에 대한 Q 값 계산을 제외시킨다\n",
    "        with torch.no_grad():\n",
    "            newQ = model(state2)\n",
    "        maxQ = torch.max(newQ)\n",
    "        if reward == -1: # 다음 상태가 존재할 경우(게임(에피소드)이 아직 끝나지 않음)\n",
    "            Y = reward + (gamma * maxQ)\n",
    "        else: # 다음 상태가 더 이상 없을 경우(게임(에피소드)이 종료됨)\n",
    "            Y = reward\n",
    "            status = 0 # 게임이 종료되었으므로 while문을 종료한다\n",
    "        # print(\"Y :\", Y, type(Y), Y.dtype, Y.size())\n",
    "        # Y는 크기가 1인 (스칼라)텐서이므로 1차원 텐서로 만들어준다\n",
    "        Y = Y.unsqueeze(dim=0).detach() # 계산 그래프에서 제외시킨다\n",
    "        # print(\"Y2 :\", Y, type(Y), Y.dtype, Y.size())\n",
    "\n",
    "        ''' Q-러닝 수행 '''\n",
    "        # qval은 1 X 4 형태의 텐서이고 squeeze()를 수행하면 크기가 4인 (배열과 같은)텐서가 된다\n",
    "        X = qval.squeeze()[action_].unsqueeze(dim=0) # Q 값에서 현재 취한 행동에 대한 행동 가치를 반환한다\n",
    "        # print(\"X :\", X, X.dtype, X.shape)\n",
    "        loss = loss_fn(X, Y)\n",
    "        loss_ = loss.item()\n",
    "        losses.append(loss_)\n",
    "        print(i, loss_)\n",
    "        clear_output(wait=True) # 옆의 코드를 사용하면 쥬피터 셀의 실행 결과가 밑으로 계속 나열되지 않고 갱신이 이루어진다\n",
    "        \n",
    "        optimizer.zero_grad()\n",
    "        loss.backward()\n",
    "        optimizer.step()\n",
    "\n",
    "        ''' 상태 갱신(S_t ==> S_t+1) '''\n",
    "        state1 = state2\n",
    "\n",
    "    ''' epsilon 갱신 '''\n",
    "    if epsilon > 0.1:\n",
    "        epsilon -= (1 / epochs)\n",
    "end = time.time()\n",
    "print(f\"running time : {(end - start) / 60:.3f} min\")"
   ]
  },
  {
   "cell_type": "code",
   "execution_count": 43,
   "id": "eb2fe6c4-7568-4555-9e7a-9b0eb9e19644",
   "metadata": {},
   "outputs": [
    {
     "data": {
      "text/plain": [
       "Text(0, 0.5, 'Loss')"
      ]
     },
     "execution_count": 43,
     "metadata": {},
     "output_type": "execute_result"
    },
    {
     "data": {
      "image/png": "[encoded data removed]",
      "text/plain": [
       "<Figure size 1000x700 with 1 Axes>"
      ]
     },
     "metadata": {},
     "output_type": "display_data"
    }
   ],
   "source": [
    "plt.figure(figsize=(10, 7))\n",
    "plt.plot(losses)\n",
    "plt.xlabel(\"Epochs\", fontsize=22)\n",
    "plt.ylabel(\"Loss\", fontsize=22)"
   ]
  },
  {
   "cell_type": "code",
   "execution_count": 45,
   "id": "1c053567-a9c9-433f-9506-5126a27d9a3d",
   "metadata": {},
   "outputs": [
    {
     "name": "stdout",
     "output_type": "stream",
     "text": [
      "running time : 3.875 min\n"
     ]
    }
   ],
   "source": [
    "l1 = 64\n",
    "l2 = 150\n",
    "l3 = 100\n",
    "l4 = 4\n",
    "\n",
    "model = torch.nn.Sequential(\n",
    "    torch.nn.Linear(l1, l2),\n",
    "    torch.nn.ReLU(),\n",
    "    torch.nn.Linear(l2, l3),\n",
    "    torch.nn.ReLU(),\n",
    "    torch.nn.Linear(l3,l4)\n",
    ")\n",
    "loss_fn = torch.nn.MSELoss()\n",
    "learning_rate = 1e-3\n",
    "optimizer = torch.optim.Adam(model.parameters(), lr=learning_rate)\n",
    "\n",
    "gamma = 0.9\n",
    "epsilon = 1.0\n",
    "learning_rate = 1e-3\n",
    "optimizer = torch.optim.Adam(model.parameters(), lr=learning_rate)\n",
    "\n",
    "gamma = 0.9\n",
    "epsilon = 1.0\n",
    "\n",
    "action_set = {\n",
    "    0: 'u',\n",
    "    1: 'd',\n",
    "    2: 'l',\n",
    "    3: 'r',\n",
    "}\n",
    "\n",
    "epochs = 1000\n",
    "losses = [] #A\n",
    "start = time.time()\n",
    "for i in range(epochs): #B\n",
    "    game = Gridworld(size=4, mode='static') #C\n",
    "    state_ = game.board.render_np().reshape(1,64) + np.random.rand(1,64)/10.0 #D\n",
    "    state = torch.from_numpy(state_).float() #E\n",
    "    status = 1 #F\n",
    "    while(status == 1): #G\n",
    "        qval = model(state) #H\n",
    "        qval_ = qval.data.numpy()\n",
    "        if (random.random() < epsilon): #I\n",
    "            action_ = np.random.randint(0,4)\n",
    "        else:\n",
    "            action_ = np.argmax(qval_)\n",
    "        \n",
    "        action = action_set[action_] #J\n",
    "        game.makeMove(action) #K\n",
    "        state2_ = game.board.render_np().reshape(1,64) + np.random.rand(1,64)/10.0\n",
    "        state2 = torch.from_numpy(state2_).float() #L\n",
    "        reward = game.reward()\n",
    "        with torch.no_grad():\n",
    "            newQ = model(state2.reshape(1,64))\n",
    "        maxQ = torch.max(newQ) #M\n",
    "        if reward == -1: #N\n",
    "            Y = reward + (gamma * maxQ)\n",
    "        else:\n",
    "            Y = reward\n",
    "        Y = torch.Tensor([Y]).detach()\n",
    "        X = qval.squeeze()[action_] #O\n",
    "        loss = loss_fn(X, Y) #P\n",
    "        print(i, loss.item())\n",
    "        clear_output(wait=True)\n",
    "        optimizer.zero_grad()\n",
    "        loss.backward()\n",
    "        losses.append(loss.item())\n",
    "        optimizer.step()\n",
    "        state1 = state2\n",
    "        if reward != -1: #Q\n",
    "            status = 0\n",
    "    if epsilon > 0.1: #R\n",
    "        epsilon -= (1/epochs)\n",
    "end = time.time()\n",
    "print(f\"running time : {(end - start) / 60:.3f} min\")"
   ]
  },
  {
   "cell_type": "code",
   "execution_count": 46,
   "id": "35a35ea4-653b-4191-8f43-153af83f7f61",
   "metadata": {},
   "outputs": [
    {
     "data": {
      "text/plain": [
       "Text(0, 0.5, 'Loss')"
      ]
     },
     "execution_count": 46,
     "metadata": {},
     "output_type": "execute_result"
    },
    {
     "data": {
      "image/png": "[encoded data removed]",
      "text/plain": [
       "<Figure size 1000x700 with 1 Axes>"
      ]
     },
     "metadata": {},
     "output_type": "display_data"
    }
   ],
   "source": [
    "plt.figure(figsize=(10, 7))\n",
    "plt.plot(losses)\n",
    "plt.xlabel(\"Epochs\", fontsize=22)\n",
    "plt.ylabel(\"Loss\", fontsize=22)"
   ]
  },
  {
   "cell_type": "code",
   "execution_count": null,
   "id": "17c46228-38a6-4f18-af6b-0a5e5865d69a",
   "metadata": {},
   "outputs": [],
   "source": []
  }
 ],
 "metadata": {
  "kernelspec": {
   "display_name": "Python 3 (ipykernel)",
   "language": "python",
   "name": "python3"
  },
  "language_info": {
   "codemirror_mode": {
    "name": "ipython",
    "version": 3
   },
   "file_extension": ".py",
   "mimetype": "text/x-python",
   "name": "python",
   "nbconvert_exporter": "python",
   "pygments_lexer": "ipython3",
   "version": "3.10.12"
  }
 },
 "nbformat": 4,
 "nbformat_minor": 5
}
