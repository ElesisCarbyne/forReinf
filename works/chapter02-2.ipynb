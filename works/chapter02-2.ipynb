{
 "cells": [
  {
   "cell_type": "markdown",
   "id": "da0577e0-1425-417d-9217-e4ef08a26b99",
   "metadata": {},
   "source": [
    "# 2024/08/09"
   ]
  },
  {
   "cell_type": "code",
   "execution_count": null,
   "id": "444905f1-c6c7-4673-81ea-2b6eaca53d93",
   "metadata": {},
   "outputs": [],
   "source": [
    "''' 경험 재현(experience replay) '''\n",
    "\n",
    "import lib.Gridworld\n",
    "import torch\n",
    "from torch import nn\n",
    "import numpy as np\n",
    "import matplotlib.pyplot as plt\n",
    "import random\n",
    "from IPython.display import clear_output\n",
    "from collections import deque\n",
    "\n",
    "l1 = 64 # 입력층 노드 개수\n",
    "l2 = 150 # 첫번째 은닉층 노드 개수\n",
    "l3 = 100 # 두번째 은닉층 노드 개수\n",
    "l4 = 4 # 출력층 노드 개수\n",
    "\n",
    "model = nn.Sequential(\n",
    "    nn.Linear(l1, l2),\n",
    "    nn.ReLU(),\n",
    "    nn.Linear(l2, l3),\n",
    "    nn.ReLU(),\n",
    "    nn.Linear(l3, l4)\n",
    ")\n",
    "\n",
    "loss_fn = nn.MSELoss()\n",
    "lr = 1e-3 # 0.003\n",
    "optimizer = torch.optim.Adam(model.parameters(), lr=lr)\n",
    "\n",
    "gamma = 0.9 # 할인율\n",
    "epsilon = 0.3 # 엡실론 탐욕 정책을 위한 초매개변수\n",
    "\n",
    "epochs = 5000\n",
    "losses = []\n",
    "mem_size = 1000 # replay memory 크기\n",
    "batch_size = 200 # 미니 배치 크기\n",
    "replay = deque(maxlen=mem_size) # replay memory 생성; deque는 파이썬 내장 모듈인 collections로 부터 나온 것이다\n",
    "max_moves = 50 # 게임당(한 에피소드당) 최대 이동 수\n",
    "h = 0 # 선언되어있기는 한데 사용처가 없어서 왜 있는지 모르겠는 변수\n",
    "\n",
    "for i in range(epochs):\n",
    "    game = Gridworld(size=4, mode=\"random\")\n",
    "    "
   ]
  },
  {
   "cell_type": "code",
   "execution_count": null,
   "id": "a9643940-9cfb-4f96-aa8c-270bace17509",
   "metadata": {},
   "outputs": [],
   "source": []
  },
  {
   "cell_type": "code",
   "execution_count": null,
   "id": "fcecc785-d168-45f6-8af8-c7e81757f32b",
   "metadata": {},
   "outputs": [],
   "source": []
  },
  {
   "cell_type": "code",
   "execution_count": null,
   "id": "148386d0-cf0a-4a56-a684-5b6ce3fca318",
   "metadata": {},
   "outputs": [],
   "source": []
  },
  {
   "cell_type": "code",
   "execution_count": null,
   "id": "9d4a3885-c766-4291-b41f-81c65fd6e9df",
   "metadata": {},
   "outputs": [],
   "source": []
  },
  {
   "cell_type": "code",
   "execution_count": null,
   "id": "b4f52137-37d8-442e-af71-97feb372ee71",
   "metadata": {},
   "outputs": [],
   "source": []
  },
  {
   "cell_type": "code",
   "execution_count": null,
   "id": "198e4b88-4a5a-4982-b3c2-e75efd23b1d1",
   "metadata": {},
   "outputs": [],
   "source": []
  }
 ],
 "metadata": {
  "kernelspec": {
   "display_name": "Python 3 (ipykernel)",
   "language": "python",
   "name": "python3"
  },
  "language_info": {
   "codemirror_mode": {
    "name": "ipython",
    "version": 3
   },
   "file_extension": ".py",
   "mimetype": "text/x-python",
   "name": "python",
   "nbconvert_exporter": "python",
   "pygments_lexer": "ipython3",
   "version": "3.10.12"
  }
 },
 "nbformat": 4,
 "nbformat_minor": 5
}
