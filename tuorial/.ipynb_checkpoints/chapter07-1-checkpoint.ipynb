{
 "cells": [
  {
   "cell_type": "code",
   "execution_count": 8,
   "id": "b68ee995-58a7-42bb-a9ec-472c157bcc3c",
   "metadata": {},
   "outputs": [
    {
     "name": "stdout",
     "output_type": "stream",
     "text": [
      "18.4\n",
      "18.4\n"
     ]
    },
    {
     "data": {
      "text/plain": [
       "array([19.13162764])"
      ]
     },
     "execution_count": 8,
     "metadata": {},
     "output_type": "execute_result"
    }
   ],
   "source": [
    "import numpy as np\n",
    "\n",
    "probs = np.array([0.6, 0.1, 0.1, 0.1, 0.1])\n",
    "outcomes = np.array([18, 21, 17, 17, 21])\n",
    "expected_value = 0.0\n",
    "\n",
    "# 기댓값(가중 평균) 계산을 반복문으로 구현\n",
    "for i in range(probs.shape[0]):\n",
    "    expected_value += probs[i] * outcomes[i]\n",
    "print(expected_value)\n",
    "\n",
    "# 두 벡터에 대한 내적 즉, 행렬곱을 수행하면 반복문을 수행하지 않고 기댓값(가중 평균) 계산을 수행할 수 있다\n",
    "expected_value = probs @ outcomes\n",
    "print(expected_value)\n",
    "\n",
    "T = lambda: expected_value + np.random.randn(1)\n",
    "T()"
   ]
  },
  {
   "cell_type": "code",
   "execution_count": 21,
   "id": "a4909262-047f-4683-8b67-3ef743a9bfc7",
   "metadata": {},
   "outputs": [
    {
     "name": "stdout",
     "output_type": "stream",
     "text": [
      "[-10.   -9.6  -9.2  -8.8  -8.4  -8.   -7.6  -7.2  -6.8  -6.4  -6.   -5.6\n",
      "  -5.2  -4.8  -4.4  -4.   -3.6  -3.2  -2.8  -2.4  -2.   -1.6  -1.2  -0.8\n",
      "  -0.4   0.    0.4   0.8   1.2   1.6   2.    2.4   2.8   3.2   3.6   4.\n",
      "   4.4   4.8   5.2   5.6   6.    6.4   6.8   7.2   7.6   8.    8.4   8.8\n",
      "   9.2   9.6  10. ] (51,)\n",
      "[0.01960784 0.01960784 0.01960784 0.01960784 0.01960784 0.01960784\n",
      " 0.01960784 0.01960784 0.01960784 0.01960784 0.01960784 0.01960784\n",
      " 0.01960784 0.01960784 0.01960784 0.01960784 0.01960784 0.01960784\n",
      " 0.01960784 0.01960784 0.01960784 0.01960784 0.01960784 0.01960784\n",
      " 0.01960784 0.01960784 0.01960784 0.01960784 0.01960784 0.01960784\n",
      " 0.01960784 0.01960784 0.01960784 0.01960784 0.01960784 0.01960784\n",
      " 0.01960784 0.01960784 0.01960784 0.01960784 0.01960784 0.01960784\n",
      " 0.01960784 0.01960784 0.01960784 0.01960784 0.01960784 0.01960784\n",
      " 0.01960784 0.01960784 0.01960784]\n"
     ]
    },
    {
     "data": {
      "text/plain": [
       "<BarContainer object of 51 artists>"
      ]
     },
     "execution_count": 21,
     "metadata": {},
     "output_type": "execute_result"
    },
    {
     "data": {
      "image/png": "[encoded data removed]",
      "text/plain": [
       "<Figure size 640x480 with 1 Axes>"
      ]
     },
     "metadata": {},
     "output_type": "display_data"
    }
   ],
   "source": [
    "import torch\n",
    "import numpy as np\n",
    "import matplotlib.pyplot as plt\n",
    "\n",
    "vmin, vmax = -10., 10. # 행동 가치 분포에 대한 지지집합(support)의 최대와 최소\n",
    "nsup = 51 # 지지집합의 크기(지지집합 내 원소의 개수)\n",
    "support = np.linspace(vmin, vmax, nsup) # [-10.0, 10.0]구간 상에서 양 끝 값을 포함하여 균일하게 형성된(퍼진) 표본들(여기서는 지지집합의 원소이자 행동 가치 분포의 확률 변수 값)이 반환된다\n",
    "probs = np.ones(nsup)\n",
    "probs /= probs.sum() # 지지집합에 대응하는 확률을 균일하게 하여, 행동 가치 분포를 균일 분포로 초기화한다\n",
    "z3 = torch.from_numpy(probs).float() # 에이전트의 행동 공간(action space) 크기가 3(즉, 에이전트가 취할 수 있는 행동이 3개이다)이므로, 3개의 행동 가치 분포가 산출된다\n",
    "                                     # 분포 Q 함수를 가치 분포 Z라고 표기한다\n",
    "\n",
    "print(support, support.shape)\n",
    "print(probs)\n",
    "plt.bar(support, probs) # bottom 옵션은 막대 그래프 높이의 기준점을 설정한다(bottom=1이라면 높이 1부터 막대 그래프가 그려진다)"
   ]
  },
  {
   "cell_type": "code",
   "execution_count": 2,
   "id": "173b0501-2938-4144-a975-2d9d9cf7c4b0",
   "metadata": {},
   "outputs": [],
   "source": [
    "# lim = limit, 행동가치분포 확률 변수 값(지지집합)의 범위를 지정한다\n",
    "def update_dist(r, probs, lim=(-10.0, 10.0), gamma=0.8):\n",
    "    '''\n",
    "    update_dist 함수는 모델이 산출한 예측분포(행동가치분포)에 대한 목표분포(행동가치분포)를 구한다\n",
    "    본래 논문대로 구현한다면 분포 벨먼 방정식에 따라,  목표분포를 구하지만, 책에서는 베이지안 방식으로 목표분포를 구한다\n",
    "    즉, 예측분포와 목표분포를 각각 사전분포와 사후분포로 간주하여, 예측분포(사전분포)를 주어진 보상을 통해 목표분포(사후분포)로 갱신한다\n",
    "    주어진 보상으로 사전분포를 사후분포로 갱신하는 방법은 아래와 같다\n",
    "    1. 보상이 주어지면, 지지집합의 내에서 그 보상과 가장 가까운 원소(행동가치)를 찾는다(이를 위해 지지집합의 최소인 vmin으로부터 r까지의 차이를 계산한다)\n",
    "    2. 1.에서 발견된 원소를 시작으로 옆의 원소로부터 확률의 일부를 떼어온다(이 과정은 1.에서 발견된 원소를 기준으로 좌측과 우측 방향에 대해 수행된다)\n",
    "    '''\n",
    "    \n",
    "    nsup = probs.shape[0]\n",
    "    vmin, vmax = lim[0], lim[1]\n",
    "    dz = (vmax - vmin) / (nsup - 1.0) # dz = delta z, 지지집합 내 원소간 간격\n",
    "                                      # 지지집합의 크기는 vmax와 vmin을 포함하여 51이고, 그 사이의 간격은 50개이다\n",
    "                                      # 따라서 dz를 계산할 때는 nsup에 -1을 해주어야 한다\n",
    "    bj = np.round((r - vmin) / dz) # 주어진 보상 r이 지지집합 내 원소 중 어떤 것과 가장 가까운지 계산한다\n",
    "    bj = int(np.clip(bj, 0, nsup - 1)) # [0, 50]에 대하여 bj가 0보다 작으면 0으로, 50보다 크면 50으로 설정한다(이 때의 닫힌 구간은 지지집합 내 원소들에 대응하는 인덱스이다)\n",
    "    m = probs.detach().clone() # probs는 예측분포에 대한 확률 벡터이고, 이를 통해 별도의 목표분포애 대한 확률 벡터를 구하는 것이 목적이므로 clone을 통한 \"깊은 복사\"를 수행한다\n",
    "\n",
    "    # 보상에 가장 가까운 지지집합 원소를 시작으로 왼쪽 원소들의 확률 일부를 떼어온다\n",
    "    j = 1\n",
    "    for i in range(bj, 1, -1):\n",
    "        m[i] += np.power(gamma, j) * m[i - 1]\n",
    "        j += 1\n",
    "\n",
    "    # 보상에 가장 가까운 지지집합 원소를 시작으로 오른쪽 원소들의 확률 일부를 떼어온다\n",
    "    j = 1\n",
    "    for i in range(bj, nsup - 1, 1):\n",
    "        m[i] += np.power(gamma, j) * m[i + 1]\n",
    "        j += 1\n",
    "    m /= m.sum()\n",
    "\n",
    "    return m\n",
    "\n",
    "def dist_dqn(x, theta, aspace=3):\n",
    "    # aspace : action space(행동 공간), 즉, 모델이 어떤 상태에서 취할 수 있는 행동의 가짓수를 가리킨다\n",
    "    # theta : 모델의 매개변수 벡터\n",
    "    dim0, dim1, dim2, dim3 = 128, 100, 25, 51\n",
    "    t1 = dim0 * dim1 # 128 X 100, 첫 번째 계층의 매개변수 벡터(노드 한 개당 100개의 가중치를 갖고, 이것이 128개 존재한다)\n",
    "    t2 = dim1 * dim2 # 100 X 25, 두 번째 계층의 매개변수 벡터(노드 한 개당 25개의 가중치를 갖고, 이것이 100개 존재한다)\n",
    "    theta1 = theta[0:t1].reshape(dim0, dim1) # 첫 번째 계층의 매개변수 벡터를 추출한다\n",
    "    theta2 = theta[t1:t1+t2].reshape(dim1, dim2) # 두 번째 계층의 매개변수 벡터를 추출한다\n",
    "\n",
    "    # 모델 구성\n",
    "    l1 = x @ theta1\n",
    "    l1 = torch.selu(l1)\n",
    "    l2 = l1 @ theta2\n",
    "    l2 = torch.selu(l2)\n",
    "    l3 = [] # 모델은 총 3개의 행동에 대한 행동가치분포(가치분포)를 산출해야 한다\n",
    "    for i in range(aspace):\n",
    "        step = dim2 * dim3 # 25 X 51, 3-n번째 계층의 매개변수 벡터(노드 한 개당 51개의 가중치를 갖고, 이것이 25개 존재한다)\n",
    "        theta5_dim = t1 + t2 + i * step # 매개변수 벡터 내 3-n번째 계층에 해당하는 매개변수들의 범위\n",
    "        theta5 = theta[theta5_dim:theta5_dim+step].reshape(dim2, dim3) # 3-n번째 계층의 매개변수 벡터를 추출한다 \n",
    "        l3_ = l2 @ theta5 # 두 번째 계층의 출력을 3-n번째 계층으로 전달하여 처리한다\n",
    "        l3.append(l3_)\n",
    "    l3 = torch.nn.functional.softmax(torch.stack(l3, dim=1), dim=2) # 최종적으로 l3는 batch_size X 3 X 51 텐서가 된다\n",
    "\n",
    "    return l3.squeeze() # squeeze()는 batch_size가 1이 아닌 이상 의미 없는 것으로 보인다\n",
    "\n",
    "def get_target_dist(dist_batch, action_batch, reward_batch, support, lim=(-10.0, 10.0), gamma=0.8):\n",
    "    nsup = support.shape[0] # 지지집합의 크기\n",
    "    vmin, vmax = lim[0], lim[1] # 지지집합의 최대, 최도\n",
    "    dz = (vmax - vmin) / (nsup - 1) # 지지집합 내 원소 간 간격\n",
    "    target_dist_batch = dist_batch.detach().clone() # dist_batch로 이에 대응하는 목표분포를 산출하기 위해, detach().clone()으로 원본과 동일하면서 완전히 별개인 텐서를 복사 생성한다\n",
    "\n",
    "    for i in range(dist_batch.shape[0]):\n",
    "        dist_full = dist_batch[i] # 특정 하나의 상태에 대한 모델의 출력 데이터를 가져온다\n",
    "        action = int(action_batch[i].item()) # 그 상태에서 취했던 행동 데이터를 가져온다\n",
    "        dist = dist_full[action] # 3개의 행동가치분포 중 목표분포를 통한 갱신 대상 분포를 가져온다\n",
    "        r = reward_batch[i]\n",
    "        if r != -1:\n",
    "            target_dist = torch.zeros(nsup)\n",
    "            bj = np.round((r - vmin) / dz)\n",
    "            bj = int(np.clip(bj, 0, nsup - 1)) # [0, 50]에 대하여 bj가 0보다 작으면 0으로, 50보다 크면 50으로 설정한다\n",
    "            target_dist[bj] = 1.0\n",
    "        else:\n",
    "            target_dist = update_dist(r, dist, lim=lim, gamma=gamma)\n",
    "        target_dist_batch[i, action, :] = target_dist\n",
    "\n",
    "    return target_dist_batch\n",
    "\n",
    "def lossfn(x, y):\n",
    "    loss = torch.tensor([0.], requries_grad = True)\n",
    "    for i in range(x.shape[0]):\n",
    "        loss_ = -1 * torch.log(x[i].flatten(start_dim=0)) @ y[i].flatten(start_dim=0)\n",
    "        loss = loss + loss_\n",
    "\n",
    "    return loss"
   ]
  },
  {
   "cell_type": "code",
   "execution_count": 20,
   "id": "59fd9348-9646-4821-9ac9-d9b528e6de5e",
   "metadata": {},
   "outputs": [
    {
     "name": "stdout",
     "output_type": "stream",
     "text": [
      "tensor([[ 0.0476,  0.2269,  1.4417, -1.1455],\n",
      "        [ 0.1681,  1.9439,  1.1562,  0.2439]])\n",
      "tensor([[[ 0.0476,  0.2269,  1.4417, -1.1455],\n",
      "         [ 0.1681,  1.9439,  1.1562,  0.2439]],\n",
      "\n",
      "        [[ 0.0476,  0.2269,  1.4417, -1.1455],\n",
      "         [ 0.1681,  1.9439,  1.1562,  0.2439]]]) torch.Size([2, 2, 4])\n",
      "tensor([[[ 0.0476,  0.2269,  1.4417, -1.1455],\n",
      "         [ 0.0476,  0.2269,  1.4417, -1.1455]],\n",
      "\n",
      "        [[ 0.1681,  1.9439,  1.1562,  0.2439],\n",
      "         [ 0.1681,  1.9439,  1.1562,  0.2439]]]) torch.Size([2, 2, 4])\n",
      "tensor([[[ 0.0476,  0.0476],\n",
      "         [ 0.2269,  0.2269],\n",
      "         [ 1.4417,  1.4417],\n",
      "         [-1.1455, -1.1455]],\n",
      "\n",
      "        [[ 0.1681,  0.1681],\n",
      "         [ 1.9439,  1.9439],\n",
      "         [ 1.1562,  1.1562],\n",
      "         [ 0.2439,  0.2439]]])\n"
     ]
    },
    {
     "data": {
      "text/plain": [
       "torch.Size([10, 3, 51])"
      ]
     },
     "execution_count": 20,
     "metadata": {},
     "output_type": "execute_result"
    }
   ],
   "source": [
    "a = torch.randn(2, 4)\n",
    "print(a)\n",
    "\n",
    "print(torch.stack((a, a), dim=0), torch.stack((a, a), dim=0).shape)\n",
    "print(torch.stack((a, a), dim=1), torch.stack((a, a), dim=1).shape)\n",
    "print(torch.stack((a, a), dim=2))\n",
    "\n",
    "b = torch.randn(10, 51)\n",
    "torch.stack((b, b, b), dim=1).shape"
   ]
  },
  {
   "cell_type": "code",
   "execution_count": 26,
   "id": "d27e1c96-43a2-4c21-bef8-c010fde76819",
   "metadata": {},
   "outputs": [
    {
     "data": {
      "text/plain": [
       "-0.6190512776374817"
      ]
     },
     "execution_count": 26,
     "metadata": {},
     "output_type": "execute_result"
    }
   ],
   "source": [
    "c = torch.randn((2,))\n",
    "c[0].item()"
   ]
  },
  {
   "cell_type": "code",
   "execution_count": 10,
   "id": "dd84cd47-3a2e-4a61-9cb8-c86577b7f4d4",
   "metadata": {},
   "outputs": [
    {
     "data": {
      "text/plain": [
       "<BarContainer object of 51 artists>"
      ]
     },
     "execution_count": 10,
     "metadata": {},
     "output_type": "execute_result"
    },
    {
     "data": {
      "image/png": "[encoded data removed]",
      "text/plain": [
       "<Figure size 640x480 with 1 Axes>"
      ]
     },
     "metadata": {},
     "output_type": "display_data"
    }
   ],
   "source": [
    "## update_dist 함수 실험 1 ##\n",
    "\n",
    "ob_rewards = -1\n",
    "Z = update_dist(ob_rewards, torch.from_numpy(probs).float(), lim=(vmin, vmax), gamma=0.1)\n",
    "plt.bar(support,Z)"
   ]
  },
  {
   "cell_type": "code",
   "execution_count": 11,
   "id": "78065882-7c59-40bc-91d1-16e55a1ba051",
   "metadata": {},
   "outputs": [
    {
     "data": {
      "text/plain": [
       "<BarContainer object of 51 artists>"
      ]
     },
     "execution_count": 11,
     "metadata": {},
     "output_type": "execute_result"
    },
    {
     "data": {
      "image/png": "[encoded data removed]",
      "text/plain": [
       "<Figure size 640x480 with 1 Axes>"
      ]
     },
     "metadata": {},
     "output_type": "display_data"
    }
   ],
   "source": [
    "## update_dist 함수 실험 2 ##\n",
    "\n",
    "ob_rewards2 = [10, 10, 10, 0, 1, 0, -10, -10, 10, 10]\n",
    "Z2 = torch.from_numpy(probs).float()\n",
    "for i in range(len(ob_reward2)):\n",
    "    Z2 = update_dist(ob_rewards2[i], Z2, lim=(vmin, vmax), gamma=0.5)\n",
    "plt.bar(support, Z2)"
   ]
  },
  {
   "cell_type": "code",
   "execution_count": 12,
   "id": "984b2dfc-72b5-4fbf-b829-628520d1cb54",
   "metadata": {},
   "outputs": [
    {
     "data": {
      "text/plain": [
       "<BarContainer object of 51 artists>"
      ]
     },
     "execution_count": 12,
     "metadata": {},
     "output_type": "execute_result"
    },
    {
     "data": {
      "image/png": "[encoded data removed]",
      "text/plain": [
       "<Figure size 640x480 with 1 Axes>"
      ]
     },
     "metadata": {},
     "output_type": "display_data"
    }
   ],
   "source": [
    "## update_dist 함수 실험 3 ##\n",
    "\n",
    "ob_rewards3 = [5, 5, 5, 5, 5, 5, 5, 5, 5, 5, 5, 5, 5, 5, 5, 5, 5, 5, 5, 5]\n",
    "Z3 = torch.from_numpy(probs).float()\n",
    "for i in range(len(ob_rewards3)):\n",
    "    Z3 = update_dist(ob_rewards3[i], Z3, lim=(vmin, vmax), gamma=0.7)\n",
    "plt.bar(support, Z3)"
   ]
  },
  {
   "cell_type": "code",
   "execution_count": null,
   "id": "522c5a13-b317-4de7-80c4-3e133c9db894",
   "metadata": {},
   "outputs": [],
   "source": []
  },
  {
   "cell_type": "code",
   "execution_count": null,
   "id": "d8702b7a-6e6a-4bdc-8bfd-e5df8bdb773a",
   "metadata": {},
   "outputs": [],
   "source": []
  },
  {
   "cell_type": "code",
   "execution_count": null,
   "id": "e7f4ccef-20e3-415a-924a-2d20acb2bcea",
   "metadata": {},
   "outputs": [],
   "source": []
  },
  {
   "cell_type": "code",
   "execution_count": null,
   "id": "ded36f8c-45bf-48bd-848d-295725b1d7f4",
   "metadata": {},
   "outputs": [],
   "source": []
  }
 ],
 "metadata": {
  "kernelspec": {
   "display_name": "Python 3 (ipykernel)",
   "language": "python",
   "name": "python3"
  },
  "language_info": {
   "codemirror_mode": {
    "name": "ipython",
    "version": 3
   },
   "file_extension": ".py",
   "mimetype": "text/x-python",
   "name": "python",
   "nbconvert_exporter": "python",
   "pygments_lexer": "ipython3",
   "version": "3.12.4"
  }
 },
 "nbformat": 4,
 "nbformat_minor": 5
}
