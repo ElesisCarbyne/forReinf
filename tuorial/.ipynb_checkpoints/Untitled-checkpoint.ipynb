{
 "cells": [
  {
   "cell_type": "code",
   "execution_count": 6,
   "id": "4ffbff35-7b51-413b-af69-d48229d166eb",
   "metadata": {},
   "outputs": [
    {
     "data": {
      "text/plain": [
       "(tensor([[1., 1.]]), tensor([1., 1.]))"
      ]
     },
     "execution_count": 6,
     "metadata": {},
     "output_type": "execute_result"
    }
   ],
   "source": [
    "import torch\n",
    "from torch import nn\n",
    "\n",
    "a = torch.tensor([[1, 2]], dtype=torch.float)\n",
    "m = nn.Softmax(dim=0)\n",
    "m(a), m(a).sum(dim=0)"
   ]
  },
  {
   "cell_type": "code",
   "execution_count": 2,
   "id": "d4bf8eec-15bf-4535-9182-b3deaaca8a2f",
   "metadata": {},
   "outputs": [
    {
     "data": {
      "text/plain": [
       "[tensor([[3]]),\n",
       " tensor([[0]]),\n",
       " tensor([[0]]),\n",
       " tensor([[3]]),\n",
       " tensor([[3]]),\n",
       " tensor([[0]]),\n",
       " tensor([[3]]),\n",
       " tensor([[3]]),\n",
       " tensor([[1]]),\n",
       " tensor([[0]])]"
      ]
     },
     "execution_count": 2,
     "metadata": {},
     "output_type": "execute_result"
    }
   ],
   "source": [
    "import torch\n",
    "\n",
    "p = torch.tensor([[0.2, 0.3, 0.1, 0.4]])\n",
    "\n",
    "[torch.multinomial(p, 1) for _ in range(10)]"
   ]
  },
  {
   "cell_type": "code",
   "execution_count": 8,
   "id": "556dfc60-fba5-4d1d-94ca-1e660cdac11e",
   "metadata": {},
   "outputs": [
    {
     "data": {
      "text/plain": [
       "1"
      ]
     },
     "execution_count": 8,
     "metadata": {},
     "output_type": "execute_result"
    }
   ],
   "source": [
    "import numpy as np\n",
    "\n",
    "p = np.array([0.2, 0.3, 0.1, 0.4])\n",
    "np.random.choice(np.array([0, 1, 2, 3]), p=p)"
   ]
  },
  {
   "cell_type": "code",
   "execution_count": 10,
   "id": "50e30723-dce1-4eb5-b6da-7a2e5c986d90",
   "metadata": {},
   "outputs": [
    {
     "data": {
      "text/plain": [
       "10"
      ]
     },
     "execution_count": 10,
     "metadata": {},
     "output_type": "execute_result"
    }
   ],
   "source": [
    "np.array([1,2,3,4,5,6,7,8,9,10]).shape[0]"
   ]
  },
  {
   "cell_type": "code",
   "execution_count": 22,
   "id": "62323f74-88c4-459c-b6e6-2f8112b701a3",
   "metadata": {},
   "outputs": [
    {
     "data": {
      "text/plain": [
       "array([[ 1,  2, 10],\n",
       "       [ 4,  5, 11],\n",
       "       [ 7,  8, 12]])"
      ]
     },
     "execution_count": 22,
     "metadata": {},
     "output_type": "execute_result"
    }
   ],
   "source": [
    "import numpy as np\n",
    "\n",
    "a = np.array([[1,2,3],\n",
    "          [4,5,6],\n",
    "          [7,8,9]])\n",
    "a[:, 2] = np.array([10, 11, 12])\n",
    "a"
   ]
  },
  {
   "cell_type": "code",
   "execution_count": 12,
   "id": "75635f61-fc7d-4ca7-a12f-1761729177ff",
   "metadata": {},
   "outputs": [
    {
     "data": {
      "text/plain": [
       "array([[ 1,  2,  3],\n",
       "       [ 4,  5,  6],\n",
       "       [ 7,  8,  9],\n",
       "       [11, 12, 13]])"
      ]
     },
     "execution_count": 12,
     "metadata": {},
     "output_type": "execute_result"
    }
   ],
   "source": [
    "a = np.array([[1,2,3],\n",
    "          [4,5,6],\n",
    "          [7,8,9]])\n",
    "np.append(a, [[11, 12, 13]], axis=0)"
   ]
  },
  {
   "cell_type": "code",
   "execution_count": 15,
   "id": "f6ad14cb-6525-41e3-ac50-9587dd53a474",
   "metadata": {},
   "outputs": [
    {
     "ename": "ValueError",
     "evalue": "all the input array dimensions except for the concatenation axis must match exactly, but along dimension 1, the array at index 0 has size 0 and the array at index 1 has size 3",
     "output_type": "error",
     "traceback": [
      "\u001b[1;31m---------------------------------------------------------------------------\u001b[0m",
      "\u001b[1;31mValueError\u001b[0m                                Traceback (most recent call last)",
      "Cell \u001b[1;32mIn[15], line 2\u001b[0m\n\u001b[0;32m      1\u001b[0m a \u001b[38;5;241m=\u001b[39m np\u001b[38;5;241m.\u001b[39marray([[]])\n\u001b[1;32m----> 2\u001b[0m \u001b[43mnp\u001b[49m\u001b[38;5;241;43m.\u001b[39;49m\u001b[43mappend\u001b[49m\u001b[43m(\u001b[49m\u001b[43ma\u001b[49m\u001b[43m,\u001b[49m\u001b[43m \u001b[49m\u001b[43m[\u001b[49m\u001b[43m[\u001b[49m\u001b[38;5;241;43m1\u001b[39;49m\u001b[43m,\u001b[49m\u001b[38;5;241;43m2\u001b[39;49m\u001b[43m,\u001b[49m\u001b[38;5;241;43m3\u001b[39;49m\u001b[43m]\u001b[49m\u001b[43m]\u001b[49m\u001b[43m,\u001b[49m\u001b[43m \u001b[49m\u001b[43maxis\u001b[49m\u001b[38;5;241;43m=\u001b[39;49m\u001b[38;5;241;43m0\u001b[39;49m\u001b[43m)\u001b[49m\n",
      "File \u001b[1;32mD:\\Conda_envs\\reinfenv\\Lib\\site-packages\\numpy\\lib\\function_base.py:5617\u001b[0m, in \u001b[0;36mappend\u001b[1;34m(arr, values, axis)\u001b[0m\n\u001b[0;32m   5615\u001b[0m     values \u001b[38;5;241m=\u001b[39m ravel(values)\n\u001b[0;32m   5616\u001b[0m     axis \u001b[38;5;241m=\u001b[39m arr\u001b[38;5;241m.\u001b[39mndim\u001b[38;5;241m-\u001b[39m\u001b[38;5;241m1\u001b[39m\n\u001b[1;32m-> 5617\u001b[0m \u001b[38;5;28;01mreturn\u001b[39;00m \u001b[43mconcatenate\u001b[49m\u001b[43m(\u001b[49m\u001b[43m(\u001b[49m\u001b[43marr\u001b[49m\u001b[43m,\u001b[49m\u001b[43m \u001b[49m\u001b[43mvalues\u001b[49m\u001b[43m)\u001b[49m\u001b[43m,\u001b[49m\u001b[43m \u001b[49m\u001b[43maxis\u001b[49m\u001b[38;5;241;43m=\u001b[39;49m\u001b[43maxis\u001b[49m\u001b[43m)\u001b[49m\n",
      "\u001b[1;31mValueError\u001b[0m: all the input array dimensions except for the concatenation axis must match exactly, but along dimension 1, the array at index 0 has size 0 and the array at index 1 has size 3"
     ]
    }
   ],
   "source": [
    "a = np.array([[]])\n",
    "np.append(a, [[1,2,3]], axis=0)"
   ]
  },
  {
   "cell_type": "code",
   "execution_count": 17,
   "id": "2b746b1e-3125-4dde-9bac-37b945afbece",
   "metadata": {},
   "outputs": [
    {
     "name": "stdout",
     "output_type": "stream",
     "text": [
      "ones:  1 2 3\n",
      "ones:  4 5 6\n",
      "ones:  7 8 9\n"
     ]
    }
   ],
   "source": [
    "a = [[1,2,3],\n",
    "    [4,5,6],\n",
    "    [7,8,9]]\n",
    "for [t1, t2, t3] in a:\n",
    "    print(\"ones: \", t1, t2, t3)"
   ]
  },
  {
   "cell_type": "code",
   "execution_count": 21,
   "id": "2ae71070-c301-4c1c-af03-752d3b317279",
   "metadata": {},
   "outputs": [
    {
     "data": {
      "text/plain": [
       "(numpy.ndarray, array([6, 5, 4, 3, 2, 1]))"
      ]
     },
     "execution_count": 21,
     "metadata": {},
     "output_type": "execute_result"
    }
   ],
   "source": [
    "type(np.flip([1,2,3,4,5,6])), np.flip([1,2,3,4,5,6])"
   ]
  },
  {
   "cell_type": "code",
   "execution_count": 9,
   "id": "adcbef3d-ad4c-4c26-907a-5e5ea409882f",
   "metadata": {},
   "outputs": [
    {
     "data": {
      "text/plain": [
       "deque([array([1, 2, 3, 4, 5, 6]),\n",
       "       array([[ 1,  2,  3,  4,  5,  6],\n",
       "              [ 7,  8,  9, 10, 11, 12]])],\n",
       "      maxlen=20)"
      ]
     },
     "execution_count": 9,
     "metadata": {},
     "output_type": "execute_result"
    }
   ],
   "source": [
    "from collections import deque\n",
    "\n",
    "mem = deque(maxlen=20)\n",
    "mem.append(np.array([1,2,3,4,5,6]))\n",
    "mem.append(np.array([[1,2,3,4,5,6], [7,8,9,10,11,12]]))\n",
    "mem"
   ]
  },
  {
   "cell_type": "code",
   "execution_count": 30,
   "id": "0e197e52-41e2-4b96-a14c-2d5220763914",
   "metadata": {},
   "outputs": [
    {
     "data": {
      "text/plain": [
       "(array([0, 1, 2, 3, 4, 5]),\n",
       " array([1.        , 0.99      , 0.9801    , 0.970299  , 0.96059601,\n",
       "        0.95099005]))"
      ]
     },
     "execution_count": 30,
     "metadata": {},
     "output_type": "execute_result"
    }
   ],
   "source": [
    "exp = np.flip([1,2,3,4,5,6])\n",
    "exp[0] - exp, np.power(0.99, exp[0] - exp)"
   ]
  },
  {
   "cell_type": "code",
   "execution_count": 2,
   "id": "5df5ae60-1637-44d6-8195-c71a3eb10430",
   "metadata": {},
   "outputs": [
    {
     "data": {
      "text/plain": [
       "tensor([1, 2, 3, 4, 5, 6], dtype=torch.int32)"
      ]
     },
     "execution_count": 2,
     "metadata": {},
     "output_type": "execute_result"
    }
   ],
   "source": [
    "import torch\n",
    "import numpy as np\n",
    "import time\n",
    "\n",
    "a = np.array([1,2,3,4,5,6])\n",
    "torch.tensor([item for item in a])"
   ]
  },
  {
   "cell_type": "code",
   "execution_count": 14,
   "id": "1a3fdeaf-5c94-4513-8e1a-47a373310e61",
   "metadata": {},
   "outputs": [
    {
     "name": "stdout",
     "output_type": "stream",
     "text": [
      "tensor(1) <class 'torch.Tensor'>\n"
     ]
    },
    {
     "data": {
      "text/plain": [
       "(tensor([1, 2, 3, 4, 5, 6]), tensor([6, 5, 4, 3, 2, 1]))"
      ]
     },
     "execution_count": 14,
     "metadata": {},
     "output_type": "execute_result"
    }
   ],
   "source": [
    "a = torch.tensor([1,2,3,4,5,6])\n",
    "print(a[0], type(a[0]))\n",
    "torch.tensor([item for item in a]), torch.flip(a, dims=[0])"
   ]
  },
  {
   "cell_type": "code",
   "execution_count": null,
   "id": "41fdcb79-baa4-4584-bf29-7f06b9247a65",
   "metadata": {},
   "outputs": [],
   "source": [
    "a = torch.tensor([[1,2,3,4,5,6],7,8])"
   ]
  }
 ],
 "metadata": {
  "kernelspec": {
   "display_name": "Python 3 (ipykernel)",
   "language": "python",
   "name": "python3"
  },
  "language_info": {
   "codemirror_mode": {
    "name": "ipython",
    "version": 3
   },
   "file_extension": ".py",
   "mimetype": "text/x-python",
   "name": "python",
   "nbconvert_exporter": "python",
   "pygments_lexer": "ipython3",
   "version": "3.12.4"
  }
 },
 "nbformat": 4,
 "nbformat_minor": 5
}
