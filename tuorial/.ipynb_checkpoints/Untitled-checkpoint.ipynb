{
 "cells": [
  {
   "cell_type": "code",
   "execution_count": 1,
   "id": "84d6eccf-cd8b-439c-bd38-f5424959e125",
   "metadata": {},
   "outputs": [],
   "source": [
    "import torch"
   ]
  },
  {
   "cell_type": "code",
   "execution_count": 5,
   "id": "aa26a90e-2034-4117-8c88-92453af9f780",
   "metadata": {},
   "outputs": [
    {
     "name": "stdout",
     "output_type": "stream",
     "text": [
      "tensor([-0.3058, -0.3893, -0.1983, -0.6638, -2.1485, -0.7449]) tensor([ 0.6784,  0.5394,  1.0286, -0.9952, -1.1989, -0.6464])\n"
     ]
    },
    {
     "data": {
      "text/plain": [
       "(tensor([[-0.3058, -0.3893, -0.1983, -0.6638, -2.1485, -0.7449],\n",
       "         [ 0.6784,  0.5394,  1.0286, -0.9952, -1.1989, -0.6464]]),\n",
       " tensor([[-0.3058,  0.6784],\n",
       "         [-0.3893,  0.5394],\n",
       "         [-0.1983,  1.0286],\n",
       "         [-0.6638, -0.9952],\n",
       "         [-2.1485, -1.1989],\n",
       "         [-0.7449, -0.6464]]))"
      ]
     },
     "execution_count": 5,
     "metadata": {},
     "output_type": "execute_result"
    }
   ],
   "source": [
    "a = torch.randn(6)\n",
    "b = torch.randn(6)\n",
    "print(a, b)\n",
    "\n",
    "torch.stack([a, b], dim=0), torch.stack([a, b], dim=1)"
   ]
  },
  {
   "cell_type": "code",
   "execution_count": 9,
   "id": "01cbdbce-a30c-4bf3-8931-cfbd21f51867",
   "metadata": {},
   "outputs": [
    {
     "data": {
      "text/plain": [
       "(tensor([-0.3058, -0.3893, -0.1983, -0.6638, -2.1485, -0.7449,  0.6784,  0.5394,\n",
       "          1.0286, -0.9952, -1.1989, -0.6464]),\n",
       " tensor([-0.3058, -0.3893, -0.1983, -0.6638, -2.1485, -0.7449,  0.6784,  0.5394,\n",
       "          1.0286, -0.9952, -1.1989, -0.6464]))"
      ]
     },
     "execution_count": 9,
     "metadata": {},
     "output_type": "execute_result"
    }
   ],
   "source": [
    "torch.cat([a, b], dim=0), torch.cat((a, b), dim=0)"
   ]
  },
  {
   "cell_type": "code",
   "execution_count": 11,
   "id": "69866cec-80b7-49ad-99f3-fd4562e65b22",
   "metadata": {},
   "outputs": [
    {
     "ename": "SyntaxError",
     "evalue": "invalid syntax. Maybe you meant '==' or ':=' instead of '='? (3782791330.py, line 3)",
     "output_type": "error",
     "traceback": [
      "\u001b[1;36m  Cell \u001b[1;32mIn[11], line 3\u001b[1;36m\u001b[0m\n\u001b[1;33m    b += (a = 1)\u001b[0m\n\u001b[1;37m          ^\u001b[0m\n\u001b[1;31mSyntaxError\u001b[0m\u001b[1;31m:\u001b[0m invalid syntax. Maybe you meant '==' or ':=' instead of '='?\n"
     ]
    }
   ],
   "source": [
    "a = 0\n",
    "b = 0\n",
    "b += (a = 1)"
   ]
  },
  {
   "cell_type": "code",
   "execution_count": 3,
   "id": "036be201-47ca-4c62-a1b6-17447bae7dee",
   "metadata": {},
   "outputs": [
    {
     "name": "stdout",
     "output_type": "stream",
     "text": [
      "D:\\for_study\\workspace\\for_reinf\\tuorial\n",
      "tensor([-0.3039, -1.2627,  0.0937, -0.3071, -0.8841,  0.3720,  0.0796, -0.6841,\n",
      "        -0.6401,  0.3529,  0.4059, -1.4114,  0.4827,  0.5353,  0.8624])\n"
     ]
    }
   ],
   "source": [
    "import os\n",
    "import torch\n",
    "\n",
    "print(os.getcwd())\n",
    "# os.path.join(os.getcwd(), \"path\")\n",
    "\n",
    "a = torch.randn(15)\n",
    "print(a)\n",
    "torch.save(a, os.path.join(os.getcwd(), \"testing.pt\"))"
   ]
  },
  {
   "cell_type": "code",
   "execution_count": 4,
   "id": "772aa0e5-e9c8-4d8a-8568-37bf1badccf2",
   "metadata": {},
   "outputs": [
    {
     "data": {
      "text/plain": [
       "tensor([-0.3039, -1.2627,  0.0937, -0.3071, -0.8841,  0.3720,  0.0796, -0.6841,\n",
       "        -0.6401,  0.3529,  0.4059, -1.4114,  0.4827,  0.5353,  0.8624])"
      ]
     },
     "execution_count": 4,
     "metadata": {},
     "output_type": "execute_result"
    }
   ],
   "source": [
    "torch.load(os.path.join(os.getcwd(), \"testing.pt\"), weights_only=True)"
   ]
  },
  {
   "cell_type": "code",
   "execution_count": 5,
   "id": "50b46a8f-e9ce-4ab6-979a-526ee00ab2f5",
   "metadata": {},
   "outputs": [
    {
     "name": "stdout",
     "output_type": "stream",
     "text": [
      "[tensor([-2.0801, -0.8834, -0.1093,  0.4026, -0.8084, -0.5031, -0.7223,  0.5486,\n",
      "        -1.8295, -1.2566,  0.7940,  0.0232, -0.5022,  0.9675,  0.8152]), tensor([ 1.1345, -0.1101, -0.8508,  1.4997, -1.4561,  1.6764,  0.8840,  1.3018,\n",
      "        -0.7076,  1.9412,  1.6018,  0.9399,  0.9224, -0.4446,  0.7501]), tensor([-1.3372, -0.2349, -0.4875,  0.6193,  0.3065,  1.8824,  0.2980, -0.5509,\n",
      "         0.4504,  0.3133, -0.3735, -1.5076, -0.5589,  1.4122, -0.6353]), tensor([ 0.7540,  0.2965, -0.1527, -2.1296, -0.5037,  0.6890, -2.4656,  1.6724,\n",
      "        -0.3753, -0.4706, -2.2037,  0.3474,  0.4155, -1.0563, -0.3225]), tensor([-0.0653, -0.6230,  0.1559, -0.5800,  1.2302, -0.4643,  0.1135, -0.1638,\n",
      "         0.0379, -0.1002,  0.6226,  0.4945,  0.2260, -0.4170,  1.3747]), tensor([-0.9733, -0.7468, -2.0663,  1.7850,  0.5187,  0.1300,  0.6729,  0.0582,\n",
      "         1.7667,  0.8311,  1.2898, -1.2218,  0.8326,  1.2464, -0.3144]), tensor([ 1.7427, -0.5403,  0.0422,  0.8447, -0.8817,  0.6064, -1.5387,  0.4104,\n",
      "        -0.9576,  1.9196, -0.4780, -0.9838, -1.1211,  1.3442,  0.6442]), tensor([-0.6106, -0.9860,  1.3777,  0.0946,  0.7086, -0.0884,  0.3653,  0.5600,\n",
      "        -1.8557, -0.3949, -0.6598,  1.0414,  0.1076,  0.4675,  1.3390]), tensor([-0.4835,  0.6855,  1.4681,  1.0683,  2.4110, -0.0134, -1.0185,  1.4852,\n",
      "        -0.5568,  0.2659,  1.7614,  1.3166, -0.5606, -0.1947,  1.0273]), tensor([ 0.5166, -0.4426,  1.3943,  0.1832, -0.2388, -1.9541,  0.7152, -1.0691,\n",
      "         0.1333, -0.2638,  0.9882,  0.5841, -0.8524, -0.5792, -1.0050])]\n"
     ]
    }
   ],
   "source": [
    "b = [torch.randn(15) for i in range(10)]\n",
    "print(b)\n",
    "torch.save(b, os.path.join(os.getcwd(), \"testing2.pt\"))"
   ]
  },
  {
   "cell_type": "code",
   "execution_count": 6,
   "id": "4849b2d3-03eb-4ea1-ab73-fa557e7d5d31",
   "metadata": {},
   "outputs": [
    {
     "name": "stdout",
     "output_type": "stream",
     "text": [
      "[tensor([-2.0801, -0.8834, -0.1093,  0.4026, -0.8084, -0.5031, -0.7223,  0.5486,\n",
      "        -1.8295, -1.2566,  0.7940,  0.0232, -0.5022,  0.9675,  0.8152]), tensor([ 1.1345, -0.1101, -0.8508,  1.4997, -1.4561,  1.6764,  0.8840,  1.3018,\n",
      "        -0.7076,  1.9412,  1.6018,  0.9399,  0.9224, -0.4446,  0.7501]), tensor([-1.3372, -0.2349, -0.4875,  0.6193,  0.3065,  1.8824,  0.2980, -0.5509,\n",
      "         0.4504,  0.3133, -0.3735, -1.5076, -0.5589,  1.4122, -0.6353]), tensor([ 0.7540,  0.2965, -0.1527, -2.1296, -0.5037,  0.6890, -2.4656,  1.6724,\n",
      "        -0.3753, -0.4706, -2.2037,  0.3474,  0.4155, -1.0563, -0.3225]), tensor([-0.0653, -0.6230,  0.1559, -0.5800,  1.2302, -0.4643,  0.1135, -0.1638,\n",
      "         0.0379, -0.1002,  0.6226,  0.4945,  0.2260, -0.4170,  1.3747]), tensor([-0.9733, -0.7468, -2.0663,  1.7850,  0.5187,  0.1300,  0.6729,  0.0582,\n",
      "         1.7667,  0.8311,  1.2898, -1.2218,  0.8326,  1.2464, -0.3144]), tensor([ 1.7427, -0.5403,  0.0422,  0.8447, -0.8817,  0.6064, -1.5387,  0.4104,\n",
      "        -0.9576,  1.9196, -0.4780, -0.9838, -1.1211,  1.3442,  0.6442]), tensor([-0.6106, -0.9860,  1.3777,  0.0946,  0.7086, -0.0884,  0.3653,  0.5600,\n",
      "        -1.8557, -0.3949, -0.6598,  1.0414,  0.1076,  0.4675,  1.3390]), tensor([-0.4835,  0.6855,  1.4681,  1.0683,  2.4110, -0.0134, -1.0185,  1.4852,\n",
      "        -0.5568,  0.2659,  1.7614,  1.3166, -0.5606, -0.1947,  1.0273]), tensor([ 0.5166, -0.4426,  1.3943,  0.1832, -0.2388, -1.9541,  0.7152, -1.0691,\n",
      "         0.1333, -0.2638,  0.9882,  0.5841, -0.8524, -0.5792, -1.0050])]\n"
     ]
    }
   ],
   "source": [
    "c = torch.load(os.path.join(os.getcwd(), \"testing2.pt\"), weights_only=True)\n",
    "print(c)"
   ]
  },
  {
   "cell_type": "code",
   "execution_count": 12,
   "id": "72e42021-0f83-4328-9088-7abe9a4331f8",
   "metadata": {},
   "outputs": [
    {
     "name": "stdout",
     "output_type": "stream",
     "text": [
      "tensor([[ 2.4516, -0.3414, -0.9459],\n",
      "        [-0.9278,  0.4045, -0.3463]])\n",
      "tensor([[0.9671, 0.3217, 0.3544],\n",
      "        [0.0329, 0.6783, 0.6456]])\n",
      "tensor([[0.9135, 0.0559, 0.0306],\n",
      "        [0.1520, 0.5761, 0.2719]])\n"
     ]
    }
   ],
   "source": [
    "m1 = torch.nn.Softmax(dim=0)\n",
    "m2 = torch.nn.Softmax(dim=1)\n",
    "input = torch.randn(2, 3)\n",
    "print(input)\n",
    "output1 = m1(input)\n",
    "print(output1)\n",
    "output2 = m2(input)\n",
    "print(output2)"
   ]
  },
  {
   "cell_type": "code",
   "execution_count": 15,
   "id": "fe9018a4-8d29-48f3-946d-258a42c4a051",
   "metadata": {},
   "outputs": [
    {
     "data": {
      "text/plain": [
       "(1.0, 1.0)"
      ]
     },
     "execution_count": 15,
     "metadata": {},
     "output_type": "execute_result"
    }
   ],
   "source": [
    "sum([0.9135, 0.0559, 0.0306]), sum([0.1229, 0.3017, 0.5754])"
   ]
  },
  {
   "cell_type": "code",
   "execution_count": 14,
   "id": "263c0b19-8771-4775-aae7-9cf7b6778586",
   "metadata": {},
   "outputs": [
    {
     "name": "stdout",
     "output_type": "stream",
     "text": [
      "tensor([[-1.0843, -0.1864,  0.4594]])\n"
     ]
    },
    {
     "data": {
      "text/plain": [
       "(tensor([[1., 1., 1.]]), tensor([[0.1229, 0.3017, 0.5754]]))"
      ]
     },
     "execution_count": 14,
     "metadata": {},
     "output_type": "execute_result"
    }
   ],
   "source": [
    "input = torch.randn(1, 3)\n",
    "print(input)\n",
    "m1(input), m2(input)"
   ]
  }
 ],
 "metadata": {
  "kernelspec": {
   "display_name": "Python 3 (ipykernel)",
   "language": "python",
   "name": "python3"
  },
  "language_info": {
   "codemirror_mode": {
    "name": "ipython",
    "version": 3
   },
   "file_extension": ".py",
   "mimetype": "text/x-python",
   "name": "python",
   "nbconvert_exporter": "python",
   "pygments_lexer": "ipython3",
   "version": "3.12.4"
  }
 },
 "nbformat": 4,
 "nbformat_minor": 5
}
