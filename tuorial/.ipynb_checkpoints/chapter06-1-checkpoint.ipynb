{
 "cells": [
  {
   "cell_type": "code",
   "execution_count": null,
   "id": "603e1174-0c16-4c81-84b4-e51cac14e0e1",
   "metadata": {},
   "outputs": [],
   "source": [
    "import random\n",
    "import numpy as np\n",
    "from matplotlib import pyplot as plt\n",
    "from difflib import SequenceMatcher # difflib는 파이썬 내장 모듈이다\n",
    "\n",
    "alphabet = \"abcdefghijklmnopqrstuvwxyzABCDEFGHIJKLMNOPQRSTUVWXYZ,.! \" # 개체를 구성하는 재료\n",
    "target = \"Hello World!\" # 진화를 통해 개체들이 도달해야 하는 최종 목표\n",
    "\n",
    "class individual:\n",
    "    def __init__(self, string, fitness=0):\n",
    "        self.string = string\n",
    "        self.fitness = fitness\n",
    "\n",
    "def similar(a, b):\n",
    "    '''\n",
    "    SequenceMatcher는 유연한(flexible) 클래스로 sequence 내부 원소들이 hashable하는 한, 어떤 자료형의 sequence든 상관없이 sequence쌍 비교를 위한 것이다\n",
    "    ratio() 메서드는 sequence들 간 유사성의 정도를 [0, 1]범위 안의 float형 값으로 반환한다\n",
    "    유사성을 측정하는 방법은 아래와 같다\n",
    "    T = 양쪽 sequence들 내 모든 원소들의 개수(2개의 sequence의 길이가 각각 4, 6이라고 한다면 T는 10이 된다)\n",
    "    M = 양쪽 sequence들 비교했을 때 일치하는 것의 개수\n",
    "    유사성 = (2.0 * M) / T # M에 2.0을 곱하는 것은 애초에 T가 두 sequence 내 모든 원소들의 개수를 의미하고 있으며, 따라서 일치하는 원소의 개수도 각 sequence마다 별도로 세기 때문이다\n",
    "    유사성 = 1.0 --> 두 sequence가 완전히 일치하는 이상적인 상황 / 유사성 = 0.0 --> 두 sequence가 전혀 일치하지 않는 상황\n",
    "    '''\n",
    "    return SequenceMatcher(None, a, b).ratio() # 두 문자열 간 유사도를 비율(확률)로 반환한다\n",
    "\n",
    "# 초기 개체군 생성\n",
    "def spawn_population(length=26, size=100):\n",
    "    # length : 개체의 크기(문자열의 길이)\n",
    "    # size : 개체군의 크기\n",
    "    pop = [] # 개체군\n",
    "    for i in range(size):\n",
    "        string = ''.join(random.choices(alphabet, k=length)) # alphabet에서 k개의 문자를 중복을 허용하여(with replacement) 무작위로 추출한다\n",
    "        individual = individual(string) # 굳이 클래스를 사용하지 않아도 된다\n",
    "        # individual = {\"string\":string, \"fitness\":0}\n",
    "        pop.append(individual)\n",
    "\n",
    "    return pop\n",
    "\n",
    "def recombine(p1_, p2_):\n",
    "    p1 = p1_.string\n",
    "    p2 = p2_.string\n",
    "    # p1 = p1_[\"string\"]\n",
    "    # p2 = p2_[\"string\"]\n",
    "    child1, child2 = [], []\n",
    "    cross_pt = random.randint(0, len(p1)) # [0, len(p1)] 구간에서 무작위 정수 하나를 반환한다\n",
    "    chlid1.extend(p1[0:cross_pt]) # extend() 메서드는 인자로 주어진 리스트의 원소를 메서드를 호출한 리스트의 끝에 삽입한다\n",
    "    chlid1.extend(p2[cross_pt:])\n",
    "    chlid2.extend(p2[0:cross_pt])\n",
    "    chlid2.extend(p1[cross_pt:])\n",
    "    c1 = individual(''.join(child1))\n",
    "    c2 = individual(''.join(child2))\n",
    "\n",
    "    return c1, c2\n",
    "\n",
    "def mutate(x, mut_rate=0.01):\n",
    "    new_x = [] # 변이된 개체를 담는 변수\n",
    "    for char in x.string:\n",
    "        if random.random() < mut_rate: # [0.0, 1.0] 사이의 무작위 정수값을 추출하여 그것이 변이율보다 작으면 변이가 일어난다\n",
    "            new_x.extend(random.choices(alphabet, k=1)) # random.choices()에서 반환되는 것은 원소가 1개인 리스트로 이를 그냥 append하면 리스트 그 자체가 new_x에 삽입된다\n",
    "                                                        # 따라서 extend() 메서드를 사용해야 한다\n",
    "        else:\n",
    "            new_x.append(char)\n",
    "    \n",
    "    return individual(''.join(new_x))\n",
    "\n",
    "def evaluate_population(pop, target):\n",
    "    avg_fit = 0\n",
    "    for i in range(len(pop)):\n",
    "        fit = similar(pop[i].string, target) # 개체와 최종 목표 간 유사도를 계산한다\n",
    "        pop[i].fitness = fit\n",
    "        avg_fit += fit\n",
    "    avg_fit /= len(pop) # 개체군의 적합도 평균을 계산한다\n",
    "\n",
    "    return pop, avg_fit\n",
    "\n",
    "def next_generation(pop, size=100, length=26, mut_rate=0.01):\n",
    "    new_pop = []\n",
    "    while len(new_pop) < size:\n",
    "        parents = random.choices(pop, k=2, weights=[x.fitness for x in pop])\n",
    "        offspring_"
   ]
  },
  {
   "cell_type": "code",
   "execution_count": 4,
   "id": "c498a27c-d1d2-4338-91d7-276adddb2510",
   "metadata": {},
   "outputs": [
    {
     "ename": "TypeError",
     "evalue": "sequence item 0: expected str instance, list found",
     "output_type": "error",
     "traceback": [
      "\u001b[1;31m---------------------------------------------------------------------------\u001b[0m",
      "\u001b[1;31mTypeError\u001b[0m                                 Traceback (most recent call last)",
      "Cell \u001b[1;32mIn[4], line 1\u001b[0m\n\u001b[1;32m----> 1\u001b[0m \u001b[38;5;124;43m\"\u001b[39;49m\u001b[38;5;124;43m\"\u001b[39;49m\u001b[38;5;241;43m.\u001b[39;49m\u001b[43mjoin\u001b[49m\u001b[43m(\u001b[49m\u001b[43m[\u001b[49m\u001b[43m[\u001b[49m\u001b[38;5;124;43m\"\u001b[39;49m\u001b[38;5;124;43mabc\u001b[39;49m\u001b[38;5;124;43m\"\u001b[39;49m\u001b[43m]\u001b[49m\u001b[43m,\u001b[49m\u001b[43m \u001b[49m\u001b[43m[\u001b[49m\u001b[38;5;124;43m\"\u001b[39;49m\u001b[38;5;124;43mdef\u001b[39;49m\u001b[38;5;124;43m\"\u001b[39;49m\u001b[43m]\u001b[49m\u001b[43m]\u001b[49m\u001b[43m)\u001b[49m, \u001b[38;5;124m\"\u001b[39m\u001b[38;5;124m\"\u001b[39m\u001b[38;5;241m.\u001b[39mjoin([\u001b[38;5;124m\"\u001b[39m\u001b[38;5;124mabc\u001b[39m\u001b[38;5;124m\"\u001b[39m, \u001b[38;5;124m\"\u001b[39m\u001b[38;5;124mdef\u001b[39m\u001b[38;5;124m\"\u001b[39m])\n",
      "\u001b[1;31mTypeError\u001b[0m: sequence item 0: expected str instance, list found"
     ]
    }
   ],
   "source": [
    "\"\".join([[\"abc\"], [\"def\"]]), \"\".join([\"abc\", \"def\"])"
   ]
  },
  {
   "cell_type": "code",
   "execution_count": 10,
   "id": "9b101f9f-b343-4b20-b758-8163f7b43c24",
   "metadata": {},
   "outputs": [
    {
     "name": "stdout",
     "output_type": "stream",
     "text": [
      "[1, 2, 3, 4, 5]\n",
      "[1, 2, 3, 4, 5, 6]\n",
      "[1, 2, 3, 4, 5, 6, [7]]\n"
     ]
    }
   ],
   "source": [
    "a = [1,2,3,4]\n",
    "a.append(5)\n",
    "print(a)\n",
    "a.extend([6])\n",
    "print(a)\n",
    "a.append([7])\n",
    "print(a)"
   ]
  }
 ],
 "metadata": {
  "kernelspec": {
   "display_name": "Python 3 (ipykernel)",
   "language": "python",
   "name": "python3"
  },
  "language_info": {
   "codemirror_mode": {
    "name": "ipython",
    "version": 3
   },
   "file_extension": ".py",
   "mimetype": "text/x-python",
   "name": "python",
   "nbconvert_exporter": "python",
   "pygments_lexer": "ipython3",
   "version": "3.12.4"
  }
 },
 "nbformat": 4,
 "nbformat_minor": 5
}
