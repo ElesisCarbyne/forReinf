{
 "cells": [
  {
   "cell_type": "code",
   "execution_count": 7,
   "id": "d0f8ef00-f672-4243-a82c-96c5fcaea7db",
   "metadata": {},
   "outputs": [
    {
     "name": "stdout",
     "output_type": "stream",
     "text": [
      "tensor([[-0.6338,  0.7641, -0.5981,  0.8229],\n",
      "        [ 0.4996,  0.1373, -0.3870, -0.5579]])\n",
      "dim=0 : \n",
      " tensor([[-0.7853,  0.9842, -0.8396,  0.8277],\n",
      "        [ 0.6191,  0.1769, -0.5432, -0.5611]])\n",
      "dim=1 : \n",
      " tensor([[-0.4459,  0.5375, -0.4208,  0.5790],\n",
      "        [ 0.5850,  0.1608, -0.4531, -0.6532]])\n"
     ]
    }
   ],
   "source": [
    "import torch\n",
    "from torch.nn import functional as F\n",
    "\n",
    "a = torch.randn((2, 4))\n",
    "print(a)\n",
    "\n",
    "\n",
    "\n",
    "print(\"dim=0 : \\n\", F.normalize(a, dim=0))\n",
    "print(\"dim=1 : \\n\", F.normalize(a, dim=1))\n",
    "# print(\"dim=2 : \\n\", F.normalize(a, dim=2))"
   ]
  },
  {
   "cell_type": "code",
   "execution_count": 35,
   "id": "aadc2311-9cbd-4b68-8da2-52ee8c1f0493",
   "metadata": {},
   "outputs": [
    {
     "name": "stdout",
     "output_type": "stream",
     "text": [
      "b: tensor([[ 1.0829, -0.0295, -1.7488,  0.4186,  0.7548],\n",
      "        [ 0.6360,  1.0479, -0.5975, -0.1881, -1.9562]])\n",
      "b[0]'s l2 norm1: tensor(2.2309)\n",
      "b[0]'s l2 norm2: tensor(2.2309)\n",
      "b's l2 norm for dim=0: tensor([1.2559, 1.0483, 1.8481, 0.4590, 2.0967])\n",
      "b's l2 norm for dim=1: tensor([2.2309, 2.3920])\n",
      "result: tensor([ 0.4854, -0.0132, -0.7839,  0.1877,  0.3383])\n",
      "tensor([[ 0.8623, -0.0282, -0.9463,  0.9122,  0.3600],\n",
      "        [ 0.5065,  0.9996, -0.3233, -0.4098, -0.9330]])\n"
     ]
    }
   ],
   "source": [
    "b = torch.randn(2, 5)\n",
    "l2_norm_b = b[0].pow(2).sum(dim=0).sqrt()\n",
    "print(\"b:\", b)\n",
    "# print(b[0].pow(2))\n",
    "# print(b[0].pow(2).sum(dim=0))\n",
    "print(\"b[0]'s l2 norm1:\", b[0].pow(2).sum(dim=0).sqrt()) # l2 norm\n",
    "print(\"b[0]'s l2 norm2:\",b[0].norm(p=2))\n",
    "print(\"b's l2 norm for dim=0:\", b.norm(p=2, dim=0)) # dim=0는 열벡터를 대상으로 l2-norm을 계산한다\n",
    "print(\"b's l2 norm for dim=1:\", b.norm(p=2, dim=1)) # dim=1은 행벡터를 대상으로 l2-norm을 계산한다\n",
    "print(\"result:\", b[0] / l2_norm_b)\n",
    "print(F.normalize(b, dim=0)) # dim=0는 열벡터를 대상으로 l2-norm을 구한 후, 그것으로 해당 열벡터를 나누어준다"
   ]
  },
  {
   "cell_type": "code",
   "execution_count": 38,
   "id": "fa6f7c74-d86b-46bd-8a8f-3283daca4bcb",
   "metadata": {},
   "outputs": [
    {
     "data": {
      "text/plain": [
       "(tensor(1.5772), tensor(1.2559))"
      ]
     },
     "execution_count": 38,
     "metadata": {},
     "output_type": "execute_result"
    }
   ],
   "source": [
    "(b[0][0])**2 + (b[1][0])**2, ((b[0][0])**2 + (b[1][0])**2).sqrt()"
   ]
  },
  {
   "cell_type": "code",
   "execution_count": 40,
   "id": "54cfb758-b382-45d9-a0ce-1155d02990bb",
   "metadata": {},
   "outputs": [
    {
     "data": {
      "text/plain": [
       "(tensor([1.0829, 0.6360]), tensor([0.8623, 0.5065]))"
      ]
     },
     "execution_count": 40,
     "metadata": {},
     "output_type": "execute_result"
    }
   ],
   "source": [
    "temp = ((b[0][0])**2 + (b[1][0])**2).sqrt()\n",
    "b[:,0], b[:,0] / temp"
   ]
  }
 ],
 "metadata": {
  "kernelspec": {
   "display_name": "Python 3 (ipykernel)",
   "language": "python",
   "name": "python3"
  },
  "language_info": {
   "codemirror_mode": {
    "name": "ipython",
    "version": 3
   },
   "file_extension": ".py",
   "mimetype": "text/x-python",
   "name": "python",
   "nbconvert_exporter": "python",
   "pygments_lexer": "ipython3",
   "version": "3.12.4"
  }
 },
 "nbformat": 4,
 "nbformat_minor": 5
}
