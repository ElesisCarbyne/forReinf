{
 "cells": [
  {
   "cell_type": "code",
   "execution_count": 1,
   "id": "84d6eccf-cd8b-439c-bd38-f5424959e125",
   "metadata": {},
   "outputs": [],
   "source": [
    "import torch"
   ]
  },
  {
   "cell_type": "code",
   "execution_count": 5,
   "id": "aa26a90e-2034-4117-8c88-92453af9f780",
   "metadata": {},
   "outputs": [
    {
     "name": "stdout",
     "output_type": "stream",
     "text": [
      "tensor([-0.3058, -0.3893, -0.1983, -0.6638, -2.1485, -0.7449]) tensor([ 0.6784,  0.5394,  1.0286, -0.9952, -1.1989, -0.6464])\n"
     ]
    },
    {
     "data": {
      "text/plain": [
       "(tensor([[-0.3058, -0.3893, -0.1983, -0.6638, -2.1485, -0.7449],\n",
       "         [ 0.6784,  0.5394,  1.0286, -0.9952, -1.1989, -0.6464]]),\n",
       " tensor([[-0.3058,  0.6784],\n",
       "         [-0.3893,  0.5394],\n",
       "         [-0.1983,  1.0286],\n",
       "         [-0.6638, -0.9952],\n",
       "         [-2.1485, -1.1989],\n",
       "         [-0.7449, -0.6464]]))"
      ]
     },
     "execution_count": 5,
     "metadata": {},
     "output_type": "execute_result"
    }
   ],
   "source": [
    "a = torch.randn(6)\n",
    "b = torch.randn(6)\n",
    "print(a, b)\n",
    "\n",
    "torch.stack([a, b], dim=0), torch.stack([a, b], dim=1)"
   ]
  },
  {
   "cell_type": "code",
   "execution_count": 9,
   "id": "01cbdbce-a30c-4bf3-8931-cfbd21f51867",
   "metadata": {},
   "outputs": [
    {
     "data": {
      "text/plain": [
       "(tensor([-0.3058, -0.3893, -0.1983, -0.6638, -2.1485, -0.7449,  0.6784,  0.5394,\n",
       "          1.0286, -0.9952, -1.1989, -0.6464]),\n",
       " tensor([-0.3058, -0.3893, -0.1983, -0.6638, -2.1485, -0.7449,  0.6784,  0.5394,\n",
       "          1.0286, -0.9952, -1.1989, -0.6464]))"
      ]
     },
     "execution_count": 9,
     "metadata": {},
     "output_type": "execute_result"
    }
   ],
   "source": [
    "torch.cat([a, b], dim=0), torch.cat((a, b), dim=0)"
   ]
  },
  {
   "cell_type": "code",
   "execution_count": 11,
   "id": "69866cec-80b7-49ad-99f3-fd4562e65b22",
   "metadata": {},
   "outputs": [
    {
     "ename": "SyntaxError",
     "evalue": "invalid syntax. Maybe you meant '==' or ':=' instead of '='? (3782791330.py, line 3)",
     "output_type": "error",
     "traceback": [
      "\u001b[1;36m  Cell \u001b[1;32mIn[11], line 3\u001b[1;36m\u001b[0m\n\u001b[1;33m    b += (a = 1)\u001b[0m\n\u001b[1;37m          ^\u001b[0m\n\u001b[1;31mSyntaxError\u001b[0m\u001b[1;31m:\u001b[0m invalid syntax. Maybe you meant '==' or ':=' instead of '='?\n"
     ]
    }
   ],
   "source": [
    "a = 0\n",
    "b = 0\n",
    "b += (a = 1)"
   ]
  }
 ],
 "metadata": {
  "kernelspec": {
   "display_name": "Python 3 (ipykernel)",
   "language": "python",
   "name": "python3"
  },
  "language_info": {
   "codemirror_mode": {
    "name": "ipython",
    "version": 3
   },
   "file_extension": ".py",
   "mimetype": "text/x-python",
   "name": "python",
   "nbconvert_exporter": "python",
   "pygments_lexer": "ipython3",
   "version": "3.12.4"
  }
 },
 "nbformat": 4,
 "nbformat_minor": 5
}
