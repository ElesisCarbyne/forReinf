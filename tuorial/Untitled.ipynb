{
 "cells": [
  {
   "cell_type": "code",
   "execution_count": 6,
   "id": "4ffbff35-7b51-413b-af69-d48229d166eb",
   "metadata": {},
   "outputs": [
    {
     "data": {
      "text/plain": [
       "(tensor([[1., 1.]]), tensor([1., 1.]))"
      ]
     },
     "execution_count": 6,
     "metadata": {},
     "output_type": "execute_result"
    }
   ],
   "source": [
    "import torch\n",
    "from torch import nn\n",
    "\n",
    "a = torch.tensor([[1, 2]], dtype=torch.float)\n",
    "m = nn.Softmax(dim=0)\n",
    "m(a), m(a).sum(dim=0)"
   ]
  },
  {
   "cell_type": "code",
   "execution_count": 2,
   "id": "d4bf8eec-15bf-4535-9182-b3deaaca8a2f",
   "metadata": {},
   "outputs": [
    {
     "data": {
      "text/plain": [
       "[tensor([[3]]),\n",
       " tensor([[0]]),\n",
       " tensor([[0]]),\n",
       " tensor([[3]]),\n",
       " tensor([[3]]),\n",
       " tensor([[0]]),\n",
       " tensor([[3]]),\n",
       " tensor([[3]]),\n",
       " tensor([[1]]),\n",
       " tensor([[0]])]"
      ]
     },
     "execution_count": 2,
     "metadata": {},
     "output_type": "execute_result"
    }
   ],
   "source": [
    "import torch\n",
    "\n",
    "p = torch.tensor([[0.2, 0.3, 0.1, 0.4]])\n",
    "\n",
    "[torch.multinomial(p, 1) for _ in range(10)]"
   ]
  },
  {
   "cell_type": "code",
   "execution_count": 8,
   "id": "556dfc60-fba5-4d1d-94ca-1e660cdac11e",
   "metadata": {},
   "outputs": [
    {
     "data": {
      "text/plain": [
       "1"
      ]
     },
     "execution_count": 8,
     "metadata": {},
     "output_type": "execute_result"
    }
   ],
   "source": [
    "import numpy as np\n",
    "\n",
    "p = np.array([0.2, 0.3, 0.1, 0.4])\n",
    "np.random.choice(np.array([0, 1, 2, 3]), p=p)"
   ]
  },
  {
   "cell_type": "code",
   "execution_count": 10,
   "id": "50e30723-dce1-4eb5-b6da-7a2e5c986d90",
   "metadata": {},
   "outputs": [
    {
     "data": {
      "text/plain": [
       "10"
      ]
     },
     "execution_count": 10,
     "metadata": {},
     "output_type": "execute_result"
    }
   ],
   "source": [
    "np.array([1,2,3,4,5,6,7,8,9,10]).shape[0]"
   ]
  }
 ],
 "metadata": {
  "kernelspec": {
   "display_name": "Python 3 (ipykernel)",
   "language": "python",
   "name": "python3"
  },
  "language_info": {
   "codemirror_mode": {
    "name": "ipython",
    "version": 3
   },
   "file_extension": ".py",
   "mimetype": "text/x-python",
   "name": "python",
   "nbconvert_exporter": "python",
   "pygments_lexer": "ipython3",
   "version": "3.12.4"
  }
 },
 "nbformat": 4,
 "nbformat_minor": 5
}
