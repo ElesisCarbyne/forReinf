{
 "cells": [
  {
   "cell_type": "code",
   "execution_count": null,
   "id": "fa7eb67f-b99a-4e78-b369-2bbe9b7c14e4",
   "metadata": {},
   "outputs": [
    {
     "name": "stdout",
     "output_type": "stream",
     "text": [
      "[ 0  1  2  3  4  5  6  7  8  9 10 11 12 13 14 15 16 17 18 19 20 21 22 23\n",
      " 24 25 26 27 28 29 30 31 32 33 34 35 36 37 38 39 40 41 42 43 44 45 46 47\n",
      " 48 49 50 51 52 53 54 55 56 57 58 59 60 61 62 63] <class 'numpy.ndarray'> int32\n",
      "Current Host System cpu core number : 16\n"
     ]
    }
   ],
   "source": [
    "import multiprocessing as mp\n",
    "import numpy as np\n",
    "import os\n",
    "\n",
    "'''\n",
    "    multiprocessing 모듈은 윈도우와 유닉스/리눅스에서 다르게 작동한다\n",
    "    <윈도우>\n",
    "    윈도우의 경우 fork() system call이 없어 새로운 프로세스를 시작(start)할 경우, 새로운 파이썬 인터프리터를 시작함과 동시에 전체 프로그램을 처음부터 다시 실행한다\n",
    "    따라서 'if __name__ == \"__main__\":'을 명시하지 않으면 프로세스의 생성이 무한히 반복된다\n",
    "    처음 파이썬 프로그램을 시작하여 생성된 첫번째 프로세스는 __name__에 \"__main__\"이 들어있지만 두번째 프로세스부터는 \"__mp_main__\"이 들어있다\n",
    "    따라서 'if __name__ == \"__main__\":'을 명시하여 코드를 작성하면, 새로이 시작된 프로세스가 프로그램의 처음부터 다시 실행할 때 if문 안쪽의 (여기서는)mp.Pool(8)을 실행하지 않아 프로세스가 무한히 생성되는 것을 막는다\n",
    "    \n",
    "    <유닉스/리눅스>\n",
    "    유닉스/리눅스의 경우 fork() system call이 존재하기 때문에 새로운 프로세스 생성 명령이 실행되면 현재 프로세스를 부모로 하는 자식 프로세스를 생성한다\n",
    "    또한 생성된 자식 프로세스는 프로그램의 처음부터 다시 실행하는 것이 아닌 mp.Pool(8)와 같은 프로세스 생성 명령 바로 다음 명령부터 실행하기 때문에 프로세스가 무한정 생성되지 않는\n",
    "\n",
    "    <쥬피터에서 멀티-프로세싱이 안되는 또 다른 이유>\n",
    "    쥬피터는 일반적인 파이썬 스크립트가 아니라 백그라운드에서 상호작용 가능한 파이썬 커널을 실행하는 웹 애플리케이션이다\n",
    "    이 말은 즉슨, 쥬피터 파일(main module)이 일반적인 파이썬 스크립트가 아니라 하나의 파이썬 객체라는 것이다\n",
    "    프로세스 간의 통신을 위해서는 각 자식 프로세스가 자신의 결과물을 pickle(serialize, 직렬화)하여 부모 프로세스에게 보내야 하는데(부모 프로세스는 그것을 받아서 다시 unpickle(deserialize, 비직렬)한 다음 자신의 main 모듈의 나머지 코드를 실행한다),\n",
    "    쥬피터 파일과 같은 파이썬 객체의 경우 pickle을 수행할 수 없고 따라서 부모 프로세스에게 처리 결과를 보내줄 수 없다\n",
    "\n",
    "    <해결방법(4가지가 있지만 그 중 가장 간편한 방법)>\n",
    "    멀티 프로세싱으로 처리할 작업에 해당하는 함수를 따로 파이썬 파일로 생성하고 그것을 불러온다\n",
    "    \n",
    "    <참고>\n",
    "    https://bobswinkels.com/posts/multiprocessing-python-windows-jupyter/\n",
    "    how to use pool.map in jupyter notebook : 검색 문구\n",
    "'''\n",
    "\n",
    "def square(x):\n",
    "    return np.square(x)\n",
    "\n",
    "# 아래의 if문을 사용하지 않으면 무한 오류에 빠지게 된다\n",
    "# 쥬피터에서는 아래의 if문을 사용해도 멀티 프로세싱이 수행되지 않는다\n",
    "if __name__ == \"__main__\":\n",
    "    x = np.arange(64) # 0 ~ 63까지의 정수 생성\n",
    "    print(x, type(x), x.dtype)\n",
    "    print(\"Current Host System cpu core number :\", mp.cpu_count()) # 현재 호스트 시스템의 cpu(코어) 개수를 반환한다\n",
    "                                                               # 그러나 이것이 현재 프로세스가 사용 가능한 cpu(코어)의 개수를 의미하지는 않는다\n",
    "    pool = mp.Pool(8) # 8개의 프로세스를 가지는 프로세스 풀을 생성한다\n",
    "    squared = pool.map(square, [x[8*i:8*i+8] for i in range(8)]) # 총 64개의 숫자를 8개씩 분할하여 각 프로세스에 배정한다\n",
    "    print(squared)"
   ]
  },
  {
   "cell_type": "code",
   "execution_count": 1,
   "id": "8b4ba6ab-13b4-4a48-aa5a-9805e92711a5",
   "metadata": {},
   "outputs": [
    {
     "name": "stdout",
     "output_type": "stream",
     "text": [
      "[ 0  1  2  3  4  5  6  7  8  9 10 11 12 13 14 15 16 17 18 19 20 21 22 23\n",
      " 24 25 26 27 28 29 30 31 32 33 34 35 36 37 38 39 40 41 42 43 44 45 46 47\n",
      " 48 49 50 51 52 53 54 55 56 57 58 59 60 61 62 63] <class 'numpy.ndarray'> int32\n",
      "Current Host System cpu core number : 16\n",
      "[array([ 0,  1,  4,  9, 16, 25, 36, 49]), array([ 64,  81, 100, 121, 144, 169, 196, 225]), array([256, 289, 324, 361, 400, 441, 484, 529]), array([576, 625, 676, 729, 784, 841, 900, 961]), array([1024, 1089, 1156, 1225, 1296, 1369, 1444, 1521]), array([1600, 1681, 1764, 1849, 1936, 2025, 2116, 2209]), array([2304, 2401, 2500, 2601, 2704, 2809, 2916, 3025]), array([3136, 3249, 3364, 3481, 3600, 3721, 3844, 3969])]\n"
     ]
    }
   ],
   "source": [
    "import numpy as np\n",
    "import multiprocessing as mp\n",
    "import os\n",
    "from lib.worker import square\n",
    "\n",
    "x = np.arange(64) # 0 ~ 63까지의 정수 생성\n",
    "print(x, type(x), x.dtype)\n",
    "print(\"Current Host System cpu core number :\", mp.cpu_count()) # 현재 호스트 시스템의 cpu(코어) 개수를 반환한다\n",
    "                                                               # 그러나 이것이 현재 프로세스가 사용 가능한 cpu(코어)의 개수를 의미하지는 않는다\n",
    "with mp.Pool(8) as pool:\n",
    "    squared = pool.map(square, [x[8*i:8*i+8] for i in range(8)]) # 총 64개의 숫자를 8개씩 분할하여 각 프로세스에 배정한다\n",
    "    print(squared)"
   ]
  },
  {
   "cell_type": "code",
   "execution_count": 2,
   "id": "59552b3d-3def-45c2-a64d-5bf8246cd0fc",
   "metadata": {},
   "outputs": [
    {
     "name": "stdout",
     "output_type": "stream",
     "text": [
      "[ 0  1  2  3  4  5  6  7  8  9 10 11 12 13 14 15 16 17 18 19 20 21 22 23\n",
      " 24 25 26 27 28 29 30 31 32 33 34 35 36 37 38 39 40 41 42 43 44 45 46 47\n",
      " 48 49 50 51 52 53 54 55 56 57 58 59 60 61 62 63] <class 'numpy.ndarray'> int32\n",
      "Current Host System cpu core number : 16\n",
      "[array([ 0,  1,  4,  9, 16, 25, 36, 49]), array([ 64,  81, 100, 121, 144, 169, 196, 225]), array([256, 289, 324, 361, 400, 441, 484, 529]), array([576, 625, 676, 729, 784, 841, 900, 961]), array([1024, 1089, 1156, 1225, 1296, 1369, 1444, 1521]), array([1600, 1681, 1764, 1849, 1936, 2025, 2116, 2209]), array([2304, 2401, 2500, 2601, 2704, 2809, 2916, 3025]), array([3136, 3249, 3364, 3481, 3600, 3721, 3844, 3969])]\n"
     ]
    }
   ],
   "source": [
    "import numpy as np\n",
    "import multiprocessing as mp\n",
    "import os\n",
    "from lib.worker import square\n",
    "\n",
    "x = np.arange(64) # 0 ~ 63까지의 정수 생성\n",
    "print(x, type(x), x.dtype)\n",
    "print(\"Current Host System cpu core number :\", mp.cpu_count()) # 현재 호스트 시스템의 cpu(코어) 개수를 반환한다\n",
    "                                                               # 그러나 이것이 현재 프로세스가 사용 가능한 cpu(코어)의 개수를 의미하지는 않는다\n",
    "pool = mp.Pool(8)\n",
    "squared = pool.map(square, [x[8*i:8*i+8] for i in range(8)]) # 총 64개의 숫자를 8개씩 분할하여 각 프로세스에 배정한다\n",
    "print(squared)"
   ]
  },
  {
   "cell_type": "code",
   "execution_count": 1,
   "id": "611de677-7bcf-486a-a866-e7a2b9580f2d",
   "metadata": {},
   "outputs": [
    {
     "name": "stdout",
     "output_type": "stream",
     "text": [
      "Collecting multiprocess\n",
      "  Downloading multiprocess-0.70.16-py312-none-any.whl.metadata (7.2 kB)\n",
      "Collecting dill>=0.3.8 (from multiprocess)\n",
      "  Downloading dill-0.3.8-py3-none-any.whl.metadata (10 kB)\n",
      "Downloading multiprocess-0.70.16-py312-none-any.whl (146 kB)\n",
      "Downloading dill-0.3.8-py3-none-any.whl (116 kB)\n",
      "Installing collected packages: dill, multiprocess\n",
      "Successfully installed dill-0.3.8 multiprocess-0.70.16\n"
     ]
    }
   ],
   "source": [
    "# !pip install multiprocess # 이거 절대로 쓰면 안된다\n",
    "                            # 써봤다가 노트북 나갈 뻔했다"
   ]
  },
  {
   "cell_type": "code",
   "execution_count": 4,
   "id": "f5526cd2-dad8-40ec-97fb-0dd6a8d34e23",
   "metadata": {},
   "outputs": [
    {
     "name": "stdout",
     "output_type": "stream",
     "text": [
      "[]\n"
     ]
    }
   ],
   "source": [
    "''' 오류가 발생하여 아래의 코드들은 실행되지가 않는다 '''\n",
    "def square(i, x, queue):\n",
    "    print(\"In process {}\".format(i,))\n",
    "    queue.put(np.square(x))\n",
    "processes = [] #A\n",
    "queue = mp.Queue() #B\n",
    "x = np.arange(64) #C\n",
    "for i in range(8): #D\n",
    "    start_index = 8*i\n",
    "    proc = mp.Process(target=square,args=(i,x[start_index:start_index+8], queue)) \n",
    "    proc.start()\n",
    "    processes.append(proc)\n",
    "    \n",
    "for proc in processes: #E\n",
    "    proc.join()\n",
    "    \n",
    "for proc in processes: #F\n",
    "    proc.terminate()\n",
    "results = []\n",
    "while not queue.empty(): #G\n",
    "    results.append(queue.get())\n",
    "\n",
    "print(results)"
   ]
  }
 ],
 "metadata": {
  "kernelspec": {
   "display_name": "Python 3 (ipykernel)",
   "language": "python",
   "name": "python3"
  },
  "language_info": {
   "codemirror_mode": {
    "name": "ipython",
    "version": 3
   },
   "file_extension": ".py",
   "mimetype": "text/x-python",
   "name": "python",
   "nbconvert_exporter": "python",
   "pygments_lexer": "ipython3",
   "version": "3.12.4"
  }
 },
 "nbformat": 4,
 "nbformat_minor": 5
}
